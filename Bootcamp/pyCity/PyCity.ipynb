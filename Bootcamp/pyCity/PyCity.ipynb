{
 "cells": [
  {
   "cell_type": "markdown",
   "metadata": {},
   "source": [
    "# PyCity"
   ]
  },
  {
   "cell_type": "code",
   "execution_count": 1,
   "metadata": {},
   "outputs": [],
   "source": [
    "#import dependancies \n",
    "import pandas as pd\n",
    "import numpy as np"
   ]
  },
  {
   "cell_type": "code",
   "execution_count": 2,
   "metadata": {},
   "outputs": [],
   "source": [
    "#open csv file\n",
    "students_csvPath = \"Resources/Students.csv\"\n",
    "schools_csvPath = \"Resources/Schools.csv\""
   ]
  },
  {
   "cell_type": "code",
   "execution_count": 3,
   "metadata": {},
   "outputs": [],
   "source": [
    "#reading csv\n",
    "students_df = pd.read_csv(students_csvPath)\n",
    "schools_df = pd.read_csv(schools_csvPath)"
   ]
  },
  {
   "cell_type": "code",
   "execution_count": 4,
   "metadata": {
    "scrolled": false
   },
   "outputs": [],
   "source": [
    "#merging CSV\n",
    "df = pd.merge(students_df, schools_df, how = \"inner\", on=[\"school_name\"])"
   ]
  },
  {
   "cell_type": "code",
   "execution_count": 5,
   "metadata": {},
   "outputs": [],
   "source": [
    "# Calculate the total number of schools\n",
    "schoolName = df[\"school_name\"].unique()\n",
    "schoolCount = len(schoolName)"
   ]
  },
  {
   "cell_type": "code",
   "execution_count": 6,
   "metadata": {},
   "outputs": [],
   "source": [
    "# Calculate the total number of students\n",
    "studentUnique = df[\"Student ID\"].unique()\n",
    "studentCount = (len(studentUnique))"
   ]
  },
  {
   "cell_type": "code",
   "execution_count": 7,
   "metadata": {},
   "outputs": [],
   "source": [
    "#extracting individual budget from student CSV\n",
    "schoolBudget = schools_df.set_index(['school_name'])['budget']"
   ]
  },
  {
   "cell_type": "code",
   "execution_count": 8,
   "metadata": {},
   "outputs": [],
   "source": [
    "# # Calculate the total budget\n",
    "budgetTotal = schools_df[\"budget\"].sum()"
   ]
  },
  {
   "cell_type": "code",
   "execution_count": 9,
   "metadata": {},
   "outputs": [],
   "source": [
    "#Average READING scores (ALL STUDENTS)\n",
    "meanRead = df[\"reading_score\"].mean()"
   ]
  },
  {
   "cell_type": "code",
   "execution_count": 10,
   "metadata": {},
   "outputs": [],
   "source": [
    "# Average MATH scores (ALL STUDENTS)\n",
    "meanMath = df[\"math_score\"].mean()"
   ]
  },
  {
   "cell_type": "code",
   "execution_count": 11,
   "metadata": {},
   "outputs": [],
   "source": [
    "#number of students who passed math TOTAL\n",
    "passMath = (df[\"math_score\"]>=70).sum()"
   ]
  },
  {
   "cell_type": "code",
   "execution_count": 12,
   "metadata": {},
   "outputs": [],
   "source": [
    "# number of students who passed reading TOTAL\n",
    "passRead = (df[\"reading_score\"]>=70).sum()"
   ]
  },
  {
   "cell_type": "code",
   "execution_count": 13,
   "metadata": {},
   "outputs": [],
   "source": [
    "# number of students who passed both math AND reading\n",
    "passBoth = df[(df[\"math_score\"]>=70) & (df[\"reading_score\"]>=70)].count()[\"Student ID\"]"
   ]
  },
  {
   "cell_type": "code",
   "execution_count": 14,
   "metadata": {},
   "outputs": [],
   "source": [
    "#overall % of students who passed math\n",
    "pcntMath = passMath/studentCount"
   ]
  },
  {
   "cell_type": "code",
   "execution_count": 15,
   "metadata": {},
   "outputs": [],
   "source": [
    "# overall % of students who passed reading\n",
    "pcntRead = passRead/studentCount"
   ]
  },
  {
   "cell_type": "code",
   "execution_count": 16,
   "metadata": {},
   "outputs": [],
   "source": [
    "# overall % of students who passed both\n",
    "pcntBoth = passBoth/studentCount\n"
   ]
  },
  {
   "cell_type": "markdown",
   "metadata": {},
   "source": [
    "# District Summary"
   ]
  },
  {
   "cell_type": "code",
   "execution_count": 17,
   "metadata": {},
   "outputs": [
    {
     "data": {
      "text/html": [
       "<style  type=\"text/css\" >\n",
       "</style><table id=\"T_c8c30974_c540_11ea_8e1d_54ee75ca1404\" ><thead>    <tr>        <th class=\"blank level0\" ></th>        <th class=\"col_heading level0 col0\" >Total Schools</th>        <th class=\"col_heading level0 col1\" >Total Students</th>        <th class=\"col_heading level0 col2\" >Total Budget</th>        <th class=\"col_heading level0 col3\" >Average Math Score</th>        <th class=\"col_heading level0 col4\" >Average Reading Score</th>        <th class=\"col_heading level0 col5\" >% Passing Math</th>        <th class=\"col_heading level0 col6\" >% Passing Reading</th>        <th class=\"col_heading level0 col7\" >% Passing Overall</th>    </tr></thead><tbody>\n",
       "                <tr>\n",
       "                        <th id=\"T_c8c30974_c540_11ea_8e1d_54ee75ca1404level0_row0\" class=\"row_heading level0 row0\" >0</th>\n",
       "                        <td id=\"T_c8c30974_c540_11ea_8e1d_54ee75ca1404row0_col0\" class=\"data row0 col0\" >15</td>\n",
       "                        <td id=\"T_c8c30974_c540_11ea_8e1d_54ee75ca1404row0_col1\" class=\"data row0 col1\" >39,170</td>\n",
       "                        <td id=\"T_c8c30974_c540_11ea_8e1d_54ee75ca1404row0_col2\" class=\"data row0 col2\" >$24,649,428.00</td>\n",
       "                        <td id=\"T_c8c30974_c540_11ea_8e1d_54ee75ca1404row0_col3\" class=\"data row0 col3\" >78.985371</td>\n",
       "                        <td id=\"T_c8c30974_c540_11ea_8e1d_54ee75ca1404row0_col4\" class=\"data row0 col4\" >81.877840</td>\n",
       "                        <td id=\"T_c8c30974_c540_11ea_8e1d_54ee75ca1404row0_col5\" class=\"data row0 col5\" >74.98%</td>\n",
       "                        <td id=\"T_c8c30974_c540_11ea_8e1d_54ee75ca1404row0_col6\" class=\"data row0 col6\" >85.81%</td>\n",
       "                        <td id=\"T_c8c30974_c540_11ea_8e1d_54ee75ca1404row0_col7\" class=\"data row0 col7\" >65.17%</td>\n",
       "            </tr>\n",
       "    </tbody></table>"
      ],
      "text/plain": [
       "<pandas.io.formats.style.Styler at 0x262127526a0>"
      ]
     },
     "execution_count": 17,
     "metadata": {},
     "output_type": "execute_result"
    }
   ],
   "source": [
    "# Creating DataFrame - district summary \n",
    "distSumm = pd.DataFrame(data={\"Total Schools\":[schoolCount], \n",
    "                      \"Total Students\": [studentCount],\n",
    "                       \"Total Budget\": [budgetTotal],\n",
    "                      \"Average Math Score\":[meanMath],\n",
    "                      \"Average Reading Score\":[meanRead],\n",
    "                      \"% Passing Math\":[pcntMath],\n",
    "                      \"% Passing Reading\":[pcntRead],\n",
    "                      \"% Passing Overall\":[pcntBoth]})\n",
    "distSumm2 = distSumm.style.format({\n",
    "                        \"Total Students\":\"{:,}\",\n",
    "                        \"Total Budget\": \"${:,.2f}\", \n",
    "                       \"% Passing Math\":\"{:.2%}\", \n",
    "                       \"% Passing Reading\":\"{:.2%}\",\n",
    "                       \"% Passing Overall\":\"{:.2%}\"})\n",
    "  \n",
    "distSumm2\n",
    "    "
   ]
  },
  {
   "cell_type": "code",
   "execution_count": 18,
   "metadata": {},
   "outputs": [
    {
     "data": {
      "text/plain": [
       "school_name\n",
       "Huang High School        District\n",
       "Figueroa High School     District\n",
       "Shelton High School       Charter\n",
       "Hernandez High School    District\n",
       "Griffin High School       Charter\n",
       "Wilson High School        Charter\n",
       "Cabrera High School       Charter\n",
       "Bailey High School       District\n",
       "Holden High School        Charter\n",
       "Pena High School          Charter\n",
       "Wright High School        Charter\n",
       "Rodriguez High School    District\n",
       "Johnson High School      District\n",
       "Ford High School         District\n",
       "Thomas High School        Charter\n",
       "Name: type, dtype: object"
      ]
     },
     "execution_count": 18,
     "metadata": {},
     "output_type": "execute_result"
    }
   ],
   "source": [
    "# classifying school type\n",
    "schoolType = schools_df.set_index(['school_name'])['type']\n",
    "schoolType"
   ]
  },
  {
   "cell_type": "code",
   "execution_count": 19,
   "metadata": {},
   "outputs": [
    {
     "data": {
      "text/plain": [
       "Bailey High School       4976\n",
       "Johnson High School      4761\n",
       "Hernandez High School    4635\n",
       "Rodriguez High School    3999\n",
       "Figueroa High School     2949\n",
       "Huang High School        2917\n",
       "Ford High School         2739\n",
       "Wilson High School       2283\n",
       "Cabrera High School      1858\n",
       "Wright High School       1800\n",
       "Shelton High School      1761\n",
       "Thomas High School       1635\n",
       "Griffin High School      1468\n",
       "Pena High School          962\n",
       "Holden High School        427\n",
       "Name: school_name, dtype: int64"
      ]
     },
     "execution_count": 19,
     "metadata": {},
     "output_type": "execute_result"
    }
   ],
   "source": [
    "# finding the number of students per school\n",
    "StuPerSchool = df[\"school_name\"].value_counts()\n",
    "StuPerSchool"
   ]
  },
  {
   "cell_type": "code",
   "execution_count": 20,
   "metadata": {
    "scrolled": false
   },
   "outputs": [],
   "source": [
    "# #Group the schools\n",
    "groupSchools = df.groupby(\"school_name\") "
   ]
  },
  {
   "cell_type": "code",
   "execution_count": 21,
   "metadata": {},
   "outputs": [],
   "source": [
    "#Calculate budget per studnet\n",
    "budgetPerStu = schoolBudget/StuPerSchool"
   ]
  },
  {
   "cell_type": "code",
   "execution_count": 22,
   "metadata": {},
   "outputs": [],
   "source": [
    "# # Calculate the average math score\n",
    "meanMath = groupSchools[\"math_score\"].mean()"
   ]
  },
  {
   "cell_type": "code",
   "execution_count": 23,
   "metadata": {},
   "outputs": [
    {
     "data": {
      "text/plain": [
       "school_name\n",
       "Bailey High School       81.033963\n",
       "Cabrera High School      83.975780\n",
       "Figueroa High School     81.158020\n",
       "Ford High School         80.746258\n",
       "Griffin High School      83.816757\n",
       "Hernandez High School    80.934412\n",
       "Holden High School       83.814988\n",
       "Huang High School        81.182722\n",
       "Johnson High School      80.966394\n",
       "Pena High School         84.044699\n",
       "Rodriguez High School    80.744686\n",
       "Shelton High School      83.725724\n",
       "Thomas High School       83.848930\n",
       "Wilson High School       83.989488\n",
       "Wright High School       83.955000\n",
       "Name: reading_score, dtype: float64"
      ]
     },
     "execution_count": 23,
     "metadata": {},
     "output_type": "execute_result"
    }
   ],
   "source": [
    "# # Calculate the average reading score for each school\n",
    "meanRead = groupSchools[\"reading_score\"].mean()\n",
    "meanRead"
   ]
  },
  {
   "cell_type": "code",
   "execution_count": 24,
   "metadata": {},
   "outputs": [],
   "source": [
    "# calculate the % of students that passed math\n",
    "passMath2 = df[df[\"math_score\"]>=70]\n",
    "passGroup_M = passMath2.groupby([\"school_name\"]).count()[\"Student ID\"]/StuPerSchool "
   ]
  },
  {
   "cell_type": "code",
   "execution_count": 25,
   "metadata": {},
   "outputs": [],
   "source": [
    "#finding the % of students that passed reading\n",
    "passReading2 = df[df[\"reading_score\"]>=70]\n",
    "passGroup_R = passReading2.groupby([\"school_name\"]).count()[\"Student ID\"]/StuPerSchool "
   ]
  },
  {
   "cell_type": "code",
   "execution_count": 26,
   "metadata": {},
   "outputs": [],
   "source": [
    "#find the % of students that passed both math and reading  \n",
    "passBoth2 = df[(df[\"math_score\"]>=70) & (df[\"reading_score\"]>=70)]\n",
    "passGroup_B = passBoth2.groupby([\"school_name\"]).count()[\"Student ID\"]/StuPerSchool"
   ]
  },
  {
   "cell_type": "markdown",
   "metadata": {},
   "source": [
    "# School Summary"
   ]
  },
  {
   "cell_type": "code",
   "execution_count": 27,
   "metadata": {},
   "outputs": [
    {
     "data": {
      "text/html": [
       "<style  type=\"text/css\" >\n",
       "</style><table id=\"T_c8eb8478_c540_11ea_bb5f_54ee75ca1404\" ><thead>    <tr>        <th class=\"blank level0\" ></th>        <th class=\"col_heading level0 col0\" >School Type</th>        <th class=\"col_heading level0 col1\" > Total Students</th>        <th class=\"col_heading level0 col2\" >Total School Budget</th>        <th class=\"col_heading level0 col3\" >Per Student Budget</th>        <th class=\"col_heading level0 col4\" >Average Math Score</th>        <th class=\"col_heading level0 col5\" >Average Reading Score</th>        <th class=\"col_heading level0 col6\" >% Passing Math</th>        <th class=\"col_heading level0 col7\" >% Passing Reading</th>        <th class=\"col_heading level0 col8\" >% Overall Passing</th>    </tr>    <tr>        <th class=\"index_name level0\" >School Name</th>        <th class=\"blank\" ></th>        <th class=\"blank\" ></th>        <th class=\"blank\" ></th>        <th class=\"blank\" ></th>        <th class=\"blank\" ></th>        <th class=\"blank\" ></th>        <th class=\"blank\" ></th>        <th class=\"blank\" ></th>        <th class=\"blank\" ></th>    </tr></thead><tbody>\n",
       "                <tr>\n",
       "                        <th id=\"T_c8eb8478_c540_11ea_bb5f_54ee75ca1404level0_row0\" class=\"row_heading level0 row0\" >Bailey High School</th>\n",
       "                        <td id=\"T_c8eb8478_c540_11ea_bb5f_54ee75ca1404row0_col0\" class=\"data row0 col0\" >District</td>\n",
       "                        <td id=\"T_c8eb8478_c540_11ea_bb5f_54ee75ca1404row0_col1\" class=\"data row0 col1\" >4976</td>\n",
       "                        <td id=\"T_c8eb8478_c540_11ea_bb5f_54ee75ca1404row0_col2\" class=\"data row0 col2\" >$3,124,928.00</td>\n",
       "                        <td id=\"T_c8eb8478_c540_11ea_bb5f_54ee75ca1404row0_col3\" class=\"data row0 col3\" >$628.00</td>\n",
       "                        <td id=\"T_c8eb8478_c540_11ea_bb5f_54ee75ca1404row0_col4\" class=\"data row0 col4\" >77.048432</td>\n",
       "                        <td id=\"T_c8eb8478_c540_11ea_bb5f_54ee75ca1404row0_col5\" class=\"data row0 col5\" >81.033963</td>\n",
       "                        <td id=\"T_c8eb8478_c540_11ea_bb5f_54ee75ca1404row0_col6\" class=\"data row0 col6\" >66.68%</td>\n",
       "                        <td id=\"T_c8eb8478_c540_11ea_bb5f_54ee75ca1404row0_col7\" class=\"data row0 col7\" >81.93%</td>\n",
       "                        <td id=\"T_c8eb8478_c540_11ea_bb5f_54ee75ca1404row0_col8\" class=\"data row0 col8\" >54.64%</td>\n",
       "            </tr>\n",
       "            <tr>\n",
       "                        <th id=\"T_c8eb8478_c540_11ea_bb5f_54ee75ca1404level0_row1\" class=\"row_heading level0 row1\" >Cabrera High School</th>\n",
       "                        <td id=\"T_c8eb8478_c540_11ea_bb5f_54ee75ca1404row1_col0\" class=\"data row1 col0\" >Charter</td>\n",
       "                        <td id=\"T_c8eb8478_c540_11ea_bb5f_54ee75ca1404row1_col1\" class=\"data row1 col1\" >1858</td>\n",
       "                        <td id=\"T_c8eb8478_c540_11ea_bb5f_54ee75ca1404row1_col2\" class=\"data row1 col2\" >$1,081,356.00</td>\n",
       "                        <td id=\"T_c8eb8478_c540_11ea_bb5f_54ee75ca1404row1_col3\" class=\"data row1 col3\" >$582.00</td>\n",
       "                        <td id=\"T_c8eb8478_c540_11ea_bb5f_54ee75ca1404row1_col4\" class=\"data row1 col4\" >83.061895</td>\n",
       "                        <td id=\"T_c8eb8478_c540_11ea_bb5f_54ee75ca1404row1_col5\" class=\"data row1 col5\" >83.975780</td>\n",
       "                        <td id=\"T_c8eb8478_c540_11ea_bb5f_54ee75ca1404row1_col6\" class=\"data row1 col6\" >94.13%</td>\n",
       "                        <td id=\"T_c8eb8478_c540_11ea_bb5f_54ee75ca1404row1_col7\" class=\"data row1 col7\" >97.04%</td>\n",
       "                        <td id=\"T_c8eb8478_c540_11ea_bb5f_54ee75ca1404row1_col8\" class=\"data row1 col8\" >91.33%</td>\n",
       "            </tr>\n",
       "            <tr>\n",
       "                        <th id=\"T_c8eb8478_c540_11ea_bb5f_54ee75ca1404level0_row2\" class=\"row_heading level0 row2\" >Figueroa High School</th>\n",
       "                        <td id=\"T_c8eb8478_c540_11ea_bb5f_54ee75ca1404row2_col0\" class=\"data row2 col0\" >District</td>\n",
       "                        <td id=\"T_c8eb8478_c540_11ea_bb5f_54ee75ca1404row2_col1\" class=\"data row2 col1\" >2949</td>\n",
       "                        <td id=\"T_c8eb8478_c540_11ea_bb5f_54ee75ca1404row2_col2\" class=\"data row2 col2\" >$1,884,411.00</td>\n",
       "                        <td id=\"T_c8eb8478_c540_11ea_bb5f_54ee75ca1404row2_col3\" class=\"data row2 col3\" >$639.00</td>\n",
       "                        <td id=\"T_c8eb8478_c540_11ea_bb5f_54ee75ca1404row2_col4\" class=\"data row2 col4\" >76.711767</td>\n",
       "                        <td id=\"T_c8eb8478_c540_11ea_bb5f_54ee75ca1404row2_col5\" class=\"data row2 col5\" >81.158020</td>\n",
       "                        <td id=\"T_c8eb8478_c540_11ea_bb5f_54ee75ca1404row2_col6\" class=\"data row2 col6\" >65.99%</td>\n",
       "                        <td id=\"T_c8eb8478_c540_11ea_bb5f_54ee75ca1404row2_col7\" class=\"data row2 col7\" >80.74%</td>\n",
       "                        <td id=\"T_c8eb8478_c540_11ea_bb5f_54ee75ca1404row2_col8\" class=\"data row2 col8\" >53.20%</td>\n",
       "            </tr>\n",
       "            <tr>\n",
       "                        <th id=\"T_c8eb8478_c540_11ea_bb5f_54ee75ca1404level0_row3\" class=\"row_heading level0 row3\" >Ford High School</th>\n",
       "                        <td id=\"T_c8eb8478_c540_11ea_bb5f_54ee75ca1404row3_col0\" class=\"data row3 col0\" >District</td>\n",
       "                        <td id=\"T_c8eb8478_c540_11ea_bb5f_54ee75ca1404row3_col1\" class=\"data row3 col1\" >2739</td>\n",
       "                        <td id=\"T_c8eb8478_c540_11ea_bb5f_54ee75ca1404row3_col2\" class=\"data row3 col2\" >$1,763,916.00</td>\n",
       "                        <td id=\"T_c8eb8478_c540_11ea_bb5f_54ee75ca1404row3_col3\" class=\"data row3 col3\" >$644.00</td>\n",
       "                        <td id=\"T_c8eb8478_c540_11ea_bb5f_54ee75ca1404row3_col4\" class=\"data row3 col4\" >77.102592</td>\n",
       "                        <td id=\"T_c8eb8478_c540_11ea_bb5f_54ee75ca1404row3_col5\" class=\"data row3 col5\" >80.746258</td>\n",
       "                        <td id=\"T_c8eb8478_c540_11ea_bb5f_54ee75ca1404row3_col6\" class=\"data row3 col6\" >68.31%</td>\n",
       "                        <td id=\"T_c8eb8478_c540_11ea_bb5f_54ee75ca1404row3_col7\" class=\"data row3 col7\" >79.30%</td>\n",
       "                        <td id=\"T_c8eb8478_c540_11ea_bb5f_54ee75ca1404row3_col8\" class=\"data row3 col8\" >54.29%</td>\n",
       "            </tr>\n",
       "            <tr>\n",
       "                        <th id=\"T_c8eb8478_c540_11ea_bb5f_54ee75ca1404level0_row4\" class=\"row_heading level0 row4\" >Griffin High School</th>\n",
       "                        <td id=\"T_c8eb8478_c540_11ea_bb5f_54ee75ca1404row4_col0\" class=\"data row4 col0\" >Charter</td>\n",
       "                        <td id=\"T_c8eb8478_c540_11ea_bb5f_54ee75ca1404row4_col1\" class=\"data row4 col1\" >1468</td>\n",
       "                        <td id=\"T_c8eb8478_c540_11ea_bb5f_54ee75ca1404row4_col2\" class=\"data row4 col2\" >$917,500.00</td>\n",
       "                        <td id=\"T_c8eb8478_c540_11ea_bb5f_54ee75ca1404row4_col3\" class=\"data row4 col3\" >$625.00</td>\n",
       "                        <td id=\"T_c8eb8478_c540_11ea_bb5f_54ee75ca1404row4_col4\" class=\"data row4 col4\" >83.351499</td>\n",
       "                        <td id=\"T_c8eb8478_c540_11ea_bb5f_54ee75ca1404row4_col5\" class=\"data row4 col5\" >83.816757</td>\n",
       "                        <td id=\"T_c8eb8478_c540_11ea_bb5f_54ee75ca1404row4_col6\" class=\"data row4 col6\" >93.39%</td>\n",
       "                        <td id=\"T_c8eb8478_c540_11ea_bb5f_54ee75ca1404row4_col7\" class=\"data row4 col7\" >97.14%</td>\n",
       "                        <td id=\"T_c8eb8478_c540_11ea_bb5f_54ee75ca1404row4_col8\" class=\"data row4 col8\" >90.60%</td>\n",
       "            </tr>\n",
       "            <tr>\n",
       "                        <th id=\"T_c8eb8478_c540_11ea_bb5f_54ee75ca1404level0_row5\" class=\"row_heading level0 row5\" >Hernandez High School</th>\n",
       "                        <td id=\"T_c8eb8478_c540_11ea_bb5f_54ee75ca1404row5_col0\" class=\"data row5 col0\" >District</td>\n",
       "                        <td id=\"T_c8eb8478_c540_11ea_bb5f_54ee75ca1404row5_col1\" class=\"data row5 col1\" >4635</td>\n",
       "                        <td id=\"T_c8eb8478_c540_11ea_bb5f_54ee75ca1404row5_col2\" class=\"data row5 col2\" >$3,022,020.00</td>\n",
       "                        <td id=\"T_c8eb8478_c540_11ea_bb5f_54ee75ca1404row5_col3\" class=\"data row5 col3\" >$652.00</td>\n",
       "                        <td id=\"T_c8eb8478_c540_11ea_bb5f_54ee75ca1404row5_col4\" class=\"data row5 col4\" >77.289752</td>\n",
       "                        <td id=\"T_c8eb8478_c540_11ea_bb5f_54ee75ca1404row5_col5\" class=\"data row5 col5\" >80.934412</td>\n",
       "                        <td id=\"T_c8eb8478_c540_11ea_bb5f_54ee75ca1404row5_col6\" class=\"data row5 col6\" >66.75%</td>\n",
       "                        <td id=\"T_c8eb8478_c540_11ea_bb5f_54ee75ca1404row5_col7\" class=\"data row5 col7\" >80.86%</td>\n",
       "                        <td id=\"T_c8eb8478_c540_11ea_bb5f_54ee75ca1404row5_col8\" class=\"data row5 col8\" >53.53%</td>\n",
       "            </tr>\n",
       "            <tr>\n",
       "                        <th id=\"T_c8eb8478_c540_11ea_bb5f_54ee75ca1404level0_row6\" class=\"row_heading level0 row6\" >Holden High School</th>\n",
       "                        <td id=\"T_c8eb8478_c540_11ea_bb5f_54ee75ca1404row6_col0\" class=\"data row6 col0\" >Charter</td>\n",
       "                        <td id=\"T_c8eb8478_c540_11ea_bb5f_54ee75ca1404row6_col1\" class=\"data row6 col1\" >427</td>\n",
       "                        <td id=\"T_c8eb8478_c540_11ea_bb5f_54ee75ca1404row6_col2\" class=\"data row6 col2\" >$248,087.00</td>\n",
       "                        <td id=\"T_c8eb8478_c540_11ea_bb5f_54ee75ca1404row6_col3\" class=\"data row6 col3\" >$581.00</td>\n",
       "                        <td id=\"T_c8eb8478_c540_11ea_bb5f_54ee75ca1404row6_col4\" class=\"data row6 col4\" >83.803279</td>\n",
       "                        <td id=\"T_c8eb8478_c540_11ea_bb5f_54ee75ca1404row6_col5\" class=\"data row6 col5\" >83.814988</td>\n",
       "                        <td id=\"T_c8eb8478_c540_11ea_bb5f_54ee75ca1404row6_col6\" class=\"data row6 col6\" >92.51%</td>\n",
       "                        <td id=\"T_c8eb8478_c540_11ea_bb5f_54ee75ca1404row6_col7\" class=\"data row6 col7\" >96.25%</td>\n",
       "                        <td id=\"T_c8eb8478_c540_11ea_bb5f_54ee75ca1404row6_col8\" class=\"data row6 col8\" >89.23%</td>\n",
       "            </tr>\n",
       "            <tr>\n",
       "                        <th id=\"T_c8eb8478_c540_11ea_bb5f_54ee75ca1404level0_row7\" class=\"row_heading level0 row7\" >Huang High School</th>\n",
       "                        <td id=\"T_c8eb8478_c540_11ea_bb5f_54ee75ca1404row7_col0\" class=\"data row7 col0\" >District</td>\n",
       "                        <td id=\"T_c8eb8478_c540_11ea_bb5f_54ee75ca1404row7_col1\" class=\"data row7 col1\" >2917</td>\n",
       "                        <td id=\"T_c8eb8478_c540_11ea_bb5f_54ee75ca1404row7_col2\" class=\"data row7 col2\" >$1,910,635.00</td>\n",
       "                        <td id=\"T_c8eb8478_c540_11ea_bb5f_54ee75ca1404row7_col3\" class=\"data row7 col3\" >$655.00</td>\n",
       "                        <td id=\"T_c8eb8478_c540_11ea_bb5f_54ee75ca1404row7_col4\" class=\"data row7 col4\" >76.629414</td>\n",
       "                        <td id=\"T_c8eb8478_c540_11ea_bb5f_54ee75ca1404row7_col5\" class=\"data row7 col5\" >81.182722</td>\n",
       "                        <td id=\"T_c8eb8478_c540_11ea_bb5f_54ee75ca1404row7_col6\" class=\"data row7 col6\" >65.68%</td>\n",
       "                        <td id=\"T_c8eb8478_c540_11ea_bb5f_54ee75ca1404row7_col7\" class=\"data row7 col7\" >81.32%</td>\n",
       "                        <td id=\"T_c8eb8478_c540_11ea_bb5f_54ee75ca1404row7_col8\" class=\"data row7 col8\" >53.51%</td>\n",
       "            </tr>\n",
       "            <tr>\n",
       "                        <th id=\"T_c8eb8478_c540_11ea_bb5f_54ee75ca1404level0_row8\" class=\"row_heading level0 row8\" >Johnson High School</th>\n",
       "                        <td id=\"T_c8eb8478_c540_11ea_bb5f_54ee75ca1404row8_col0\" class=\"data row8 col0\" >District</td>\n",
       "                        <td id=\"T_c8eb8478_c540_11ea_bb5f_54ee75ca1404row8_col1\" class=\"data row8 col1\" >4761</td>\n",
       "                        <td id=\"T_c8eb8478_c540_11ea_bb5f_54ee75ca1404row8_col2\" class=\"data row8 col2\" >$3,094,650.00</td>\n",
       "                        <td id=\"T_c8eb8478_c540_11ea_bb5f_54ee75ca1404row8_col3\" class=\"data row8 col3\" >$650.00</td>\n",
       "                        <td id=\"T_c8eb8478_c540_11ea_bb5f_54ee75ca1404row8_col4\" class=\"data row8 col4\" >77.072464</td>\n",
       "                        <td id=\"T_c8eb8478_c540_11ea_bb5f_54ee75ca1404row8_col5\" class=\"data row8 col5\" >80.966394</td>\n",
       "                        <td id=\"T_c8eb8478_c540_11ea_bb5f_54ee75ca1404row8_col6\" class=\"data row8 col6\" >66.06%</td>\n",
       "                        <td id=\"T_c8eb8478_c540_11ea_bb5f_54ee75ca1404row8_col7\" class=\"data row8 col7\" >81.22%</td>\n",
       "                        <td id=\"T_c8eb8478_c540_11ea_bb5f_54ee75ca1404row8_col8\" class=\"data row8 col8\" >53.54%</td>\n",
       "            </tr>\n",
       "            <tr>\n",
       "                        <th id=\"T_c8eb8478_c540_11ea_bb5f_54ee75ca1404level0_row9\" class=\"row_heading level0 row9\" >Pena High School</th>\n",
       "                        <td id=\"T_c8eb8478_c540_11ea_bb5f_54ee75ca1404row9_col0\" class=\"data row9 col0\" >Charter</td>\n",
       "                        <td id=\"T_c8eb8478_c540_11ea_bb5f_54ee75ca1404row9_col1\" class=\"data row9 col1\" >962</td>\n",
       "                        <td id=\"T_c8eb8478_c540_11ea_bb5f_54ee75ca1404row9_col2\" class=\"data row9 col2\" >$585,858.00</td>\n",
       "                        <td id=\"T_c8eb8478_c540_11ea_bb5f_54ee75ca1404row9_col3\" class=\"data row9 col3\" >$609.00</td>\n",
       "                        <td id=\"T_c8eb8478_c540_11ea_bb5f_54ee75ca1404row9_col4\" class=\"data row9 col4\" >83.839917</td>\n",
       "                        <td id=\"T_c8eb8478_c540_11ea_bb5f_54ee75ca1404row9_col5\" class=\"data row9 col5\" >84.044699</td>\n",
       "                        <td id=\"T_c8eb8478_c540_11ea_bb5f_54ee75ca1404row9_col6\" class=\"data row9 col6\" >94.59%</td>\n",
       "                        <td id=\"T_c8eb8478_c540_11ea_bb5f_54ee75ca1404row9_col7\" class=\"data row9 col7\" >95.95%</td>\n",
       "                        <td id=\"T_c8eb8478_c540_11ea_bb5f_54ee75ca1404row9_col8\" class=\"data row9 col8\" >90.54%</td>\n",
       "            </tr>\n",
       "            <tr>\n",
       "                        <th id=\"T_c8eb8478_c540_11ea_bb5f_54ee75ca1404level0_row10\" class=\"row_heading level0 row10\" >Rodriguez High School</th>\n",
       "                        <td id=\"T_c8eb8478_c540_11ea_bb5f_54ee75ca1404row10_col0\" class=\"data row10 col0\" >District</td>\n",
       "                        <td id=\"T_c8eb8478_c540_11ea_bb5f_54ee75ca1404row10_col1\" class=\"data row10 col1\" >3999</td>\n",
       "                        <td id=\"T_c8eb8478_c540_11ea_bb5f_54ee75ca1404row10_col2\" class=\"data row10 col2\" >$2,547,363.00</td>\n",
       "                        <td id=\"T_c8eb8478_c540_11ea_bb5f_54ee75ca1404row10_col3\" class=\"data row10 col3\" >$637.00</td>\n",
       "                        <td id=\"T_c8eb8478_c540_11ea_bb5f_54ee75ca1404row10_col4\" class=\"data row10 col4\" >76.842711</td>\n",
       "                        <td id=\"T_c8eb8478_c540_11ea_bb5f_54ee75ca1404row10_col5\" class=\"data row10 col5\" >80.744686</td>\n",
       "                        <td id=\"T_c8eb8478_c540_11ea_bb5f_54ee75ca1404row10_col6\" class=\"data row10 col6\" >66.37%</td>\n",
       "                        <td id=\"T_c8eb8478_c540_11ea_bb5f_54ee75ca1404row10_col7\" class=\"data row10 col7\" >80.22%</td>\n",
       "                        <td id=\"T_c8eb8478_c540_11ea_bb5f_54ee75ca1404row10_col8\" class=\"data row10 col8\" >52.99%</td>\n",
       "            </tr>\n",
       "            <tr>\n",
       "                        <th id=\"T_c8eb8478_c540_11ea_bb5f_54ee75ca1404level0_row11\" class=\"row_heading level0 row11\" >Shelton High School</th>\n",
       "                        <td id=\"T_c8eb8478_c540_11ea_bb5f_54ee75ca1404row11_col0\" class=\"data row11 col0\" >Charter</td>\n",
       "                        <td id=\"T_c8eb8478_c540_11ea_bb5f_54ee75ca1404row11_col1\" class=\"data row11 col1\" >1761</td>\n",
       "                        <td id=\"T_c8eb8478_c540_11ea_bb5f_54ee75ca1404row11_col2\" class=\"data row11 col2\" >$1,056,600.00</td>\n",
       "                        <td id=\"T_c8eb8478_c540_11ea_bb5f_54ee75ca1404row11_col3\" class=\"data row11 col3\" >$600.00</td>\n",
       "                        <td id=\"T_c8eb8478_c540_11ea_bb5f_54ee75ca1404row11_col4\" class=\"data row11 col4\" >83.359455</td>\n",
       "                        <td id=\"T_c8eb8478_c540_11ea_bb5f_54ee75ca1404row11_col5\" class=\"data row11 col5\" >83.725724</td>\n",
       "                        <td id=\"T_c8eb8478_c540_11ea_bb5f_54ee75ca1404row11_col6\" class=\"data row11 col6\" >93.87%</td>\n",
       "                        <td id=\"T_c8eb8478_c540_11ea_bb5f_54ee75ca1404row11_col7\" class=\"data row11 col7\" >95.85%</td>\n",
       "                        <td id=\"T_c8eb8478_c540_11ea_bb5f_54ee75ca1404row11_col8\" class=\"data row11 col8\" >89.89%</td>\n",
       "            </tr>\n",
       "            <tr>\n",
       "                        <th id=\"T_c8eb8478_c540_11ea_bb5f_54ee75ca1404level0_row12\" class=\"row_heading level0 row12\" >Thomas High School</th>\n",
       "                        <td id=\"T_c8eb8478_c540_11ea_bb5f_54ee75ca1404row12_col0\" class=\"data row12 col0\" >Charter</td>\n",
       "                        <td id=\"T_c8eb8478_c540_11ea_bb5f_54ee75ca1404row12_col1\" class=\"data row12 col1\" >1635</td>\n",
       "                        <td id=\"T_c8eb8478_c540_11ea_bb5f_54ee75ca1404row12_col2\" class=\"data row12 col2\" >$1,043,130.00</td>\n",
       "                        <td id=\"T_c8eb8478_c540_11ea_bb5f_54ee75ca1404row12_col3\" class=\"data row12 col3\" >$638.00</td>\n",
       "                        <td id=\"T_c8eb8478_c540_11ea_bb5f_54ee75ca1404row12_col4\" class=\"data row12 col4\" >83.418349</td>\n",
       "                        <td id=\"T_c8eb8478_c540_11ea_bb5f_54ee75ca1404row12_col5\" class=\"data row12 col5\" >83.848930</td>\n",
       "                        <td id=\"T_c8eb8478_c540_11ea_bb5f_54ee75ca1404row12_col6\" class=\"data row12 col6\" >93.27%</td>\n",
       "                        <td id=\"T_c8eb8478_c540_11ea_bb5f_54ee75ca1404row12_col7\" class=\"data row12 col7\" >97.31%</td>\n",
       "                        <td id=\"T_c8eb8478_c540_11ea_bb5f_54ee75ca1404row12_col8\" class=\"data row12 col8\" >90.95%</td>\n",
       "            </tr>\n",
       "            <tr>\n",
       "                        <th id=\"T_c8eb8478_c540_11ea_bb5f_54ee75ca1404level0_row13\" class=\"row_heading level0 row13\" >Wilson High School</th>\n",
       "                        <td id=\"T_c8eb8478_c540_11ea_bb5f_54ee75ca1404row13_col0\" class=\"data row13 col0\" >Charter</td>\n",
       "                        <td id=\"T_c8eb8478_c540_11ea_bb5f_54ee75ca1404row13_col1\" class=\"data row13 col1\" >2283</td>\n",
       "                        <td id=\"T_c8eb8478_c540_11ea_bb5f_54ee75ca1404row13_col2\" class=\"data row13 col2\" >$1,319,574.00</td>\n",
       "                        <td id=\"T_c8eb8478_c540_11ea_bb5f_54ee75ca1404row13_col3\" class=\"data row13 col3\" >$578.00</td>\n",
       "                        <td id=\"T_c8eb8478_c540_11ea_bb5f_54ee75ca1404row13_col4\" class=\"data row13 col4\" >83.274201</td>\n",
       "                        <td id=\"T_c8eb8478_c540_11ea_bb5f_54ee75ca1404row13_col5\" class=\"data row13 col5\" >83.989488</td>\n",
       "                        <td id=\"T_c8eb8478_c540_11ea_bb5f_54ee75ca1404row13_col6\" class=\"data row13 col6\" >93.87%</td>\n",
       "                        <td id=\"T_c8eb8478_c540_11ea_bb5f_54ee75ca1404row13_col7\" class=\"data row13 col7\" >96.54%</td>\n",
       "                        <td id=\"T_c8eb8478_c540_11ea_bb5f_54ee75ca1404row13_col8\" class=\"data row13 col8\" >90.58%</td>\n",
       "            </tr>\n",
       "            <tr>\n",
       "                        <th id=\"T_c8eb8478_c540_11ea_bb5f_54ee75ca1404level0_row14\" class=\"row_heading level0 row14\" >Wright High School</th>\n",
       "                        <td id=\"T_c8eb8478_c540_11ea_bb5f_54ee75ca1404row14_col0\" class=\"data row14 col0\" >Charter</td>\n",
       "                        <td id=\"T_c8eb8478_c540_11ea_bb5f_54ee75ca1404row14_col1\" class=\"data row14 col1\" >1800</td>\n",
       "                        <td id=\"T_c8eb8478_c540_11ea_bb5f_54ee75ca1404row14_col2\" class=\"data row14 col2\" >$1,049,400.00</td>\n",
       "                        <td id=\"T_c8eb8478_c540_11ea_bb5f_54ee75ca1404row14_col3\" class=\"data row14 col3\" >$583.00</td>\n",
       "                        <td id=\"T_c8eb8478_c540_11ea_bb5f_54ee75ca1404row14_col4\" class=\"data row14 col4\" >83.682222</td>\n",
       "                        <td id=\"T_c8eb8478_c540_11ea_bb5f_54ee75ca1404row14_col5\" class=\"data row14 col5\" >83.955000</td>\n",
       "                        <td id=\"T_c8eb8478_c540_11ea_bb5f_54ee75ca1404row14_col6\" class=\"data row14 col6\" >93.33%</td>\n",
       "                        <td id=\"T_c8eb8478_c540_11ea_bb5f_54ee75ca1404row14_col7\" class=\"data row14 col7\" >96.61%</td>\n",
       "                        <td id=\"T_c8eb8478_c540_11ea_bb5f_54ee75ca1404row14_col8\" class=\"data row14 col8\" >90.33%</td>\n",
       "            </tr>\n",
       "    </tbody></table>"
      ],
      "text/plain": [
       "<pandas.io.formats.style.Styler at 0x26212d34f60>"
      ]
     },
     "execution_count": 27,
     "metadata": {},
     "output_type": "execute_result"
    }
   ],
   "source": [
    "# create dataframe summerizing all schools\n",
    "passGroupDF = pd.DataFrame({\"School Type\":schoolType, \n",
    "                      \" Total Students\": StuPerSchool,\n",
    "                       \"Total School Budget\": schoolBudget,\n",
    "                      \"Per Student Budget\":budgetPerStu,\n",
    "                      \"Average Math Score\":meanMath,\n",
    "                      \"Average Reading Score\":meanRead,\n",
    "                       \"% Passing Math\":passGroup_M,      \n",
    "                      \"% Passing Reading\":passGroup_R,\n",
    "                      \"% Overall Passing\":passGroup_B\n",
    "                           })\n",
    "passGroupDF.index.name = \"School Name\"\n",
    "\n",
    "\n",
    "passGroupDF2 = passGroupDF.style.format({\"Total Students\":\"{:,}\",\n",
    "                          \"Total School Budget\": \"${:,.2f}\", \n",
    "                          \"Per Student Budget\": \"${:,.2f}\",\n",
    "                          \"% Passing Math\":\"{:.2%}\", \n",
    "                          \"% Passing Reading\":\"{:.2%}\",\n",
    "                          \"% Overall Passing\":\"{:.2%}\"})\n",
    "passGroupDF2"
   ]
  },
  {
   "cell_type": "markdown",
   "metadata": {},
   "source": [
    "# Top Performing Schools (By % Overall Passing)"
   ]
  },
  {
   "cell_type": "code",
   "execution_count": 28,
   "metadata": {},
   "outputs": [
    {
     "data": {
      "text/html": [
       "<style  type=\"text/css\" >\n",
       "</style><table id=\"T_c8f125f0_c540_11ea_8277_54ee75ca1404\" ><thead>    <tr>        <th class=\"blank level0\" ></th>        <th class=\"col_heading level0 col0\" >School Type</th>        <th class=\"col_heading level0 col1\" > Total Students</th>        <th class=\"col_heading level0 col2\" >Total School Budget</th>        <th class=\"col_heading level0 col3\" >Per Student Budget</th>        <th class=\"col_heading level0 col4\" >Average Math Score</th>        <th class=\"col_heading level0 col5\" >Average Reading Score</th>        <th class=\"col_heading level0 col6\" >% Passing Math</th>        <th class=\"col_heading level0 col7\" >% Passing Reading</th>        <th class=\"col_heading level0 col8\" >% Overall Passing</th>    </tr>    <tr>        <th class=\"index_name level0\" >School Name</th>        <th class=\"blank\" ></th>        <th class=\"blank\" ></th>        <th class=\"blank\" ></th>        <th class=\"blank\" ></th>        <th class=\"blank\" ></th>        <th class=\"blank\" ></th>        <th class=\"blank\" ></th>        <th class=\"blank\" ></th>        <th class=\"blank\" ></th>    </tr></thead><tbody>\n",
       "                <tr>\n",
       "                        <th id=\"T_c8f125f0_c540_11ea_8277_54ee75ca1404level0_row0\" class=\"row_heading level0 row0\" >Cabrera High School</th>\n",
       "                        <td id=\"T_c8f125f0_c540_11ea_8277_54ee75ca1404row0_col0\" class=\"data row0 col0\" >Charter</td>\n",
       "                        <td id=\"T_c8f125f0_c540_11ea_8277_54ee75ca1404row0_col1\" class=\"data row0 col1\" >1858</td>\n",
       "                        <td id=\"T_c8f125f0_c540_11ea_8277_54ee75ca1404row0_col2\" class=\"data row0 col2\" >$1,081,356.00</td>\n",
       "                        <td id=\"T_c8f125f0_c540_11ea_8277_54ee75ca1404row0_col3\" class=\"data row0 col3\" >$582.00</td>\n",
       "                        <td id=\"T_c8f125f0_c540_11ea_8277_54ee75ca1404row0_col4\" class=\"data row0 col4\" >83.061895</td>\n",
       "                        <td id=\"T_c8f125f0_c540_11ea_8277_54ee75ca1404row0_col5\" class=\"data row0 col5\" >83.975780</td>\n",
       "                        <td id=\"T_c8f125f0_c540_11ea_8277_54ee75ca1404row0_col6\" class=\"data row0 col6\" >94.13%</td>\n",
       "                        <td id=\"T_c8f125f0_c540_11ea_8277_54ee75ca1404row0_col7\" class=\"data row0 col7\" >97.04%</td>\n",
       "                        <td id=\"T_c8f125f0_c540_11ea_8277_54ee75ca1404row0_col8\" class=\"data row0 col8\" >91.33%</td>\n",
       "            </tr>\n",
       "            <tr>\n",
       "                        <th id=\"T_c8f125f0_c540_11ea_8277_54ee75ca1404level0_row1\" class=\"row_heading level0 row1\" >Thomas High School</th>\n",
       "                        <td id=\"T_c8f125f0_c540_11ea_8277_54ee75ca1404row1_col0\" class=\"data row1 col0\" >Charter</td>\n",
       "                        <td id=\"T_c8f125f0_c540_11ea_8277_54ee75ca1404row1_col1\" class=\"data row1 col1\" >1635</td>\n",
       "                        <td id=\"T_c8f125f0_c540_11ea_8277_54ee75ca1404row1_col2\" class=\"data row1 col2\" >$1,043,130.00</td>\n",
       "                        <td id=\"T_c8f125f0_c540_11ea_8277_54ee75ca1404row1_col3\" class=\"data row1 col3\" >$638.00</td>\n",
       "                        <td id=\"T_c8f125f0_c540_11ea_8277_54ee75ca1404row1_col4\" class=\"data row1 col4\" >83.418349</td>\n",
       "                        <td id=\"T_c8f125f0_c540_11ea_8277_54ee75ca1404row1_col5\" class=\"data row1 col5\" >83.848930</td>\n",
       "                        <td id=\"T_c8f125f0_c540_11ea_8277_54ee75ca1404row1_col6\" class=\"data row1 col6\" >93.27%</td>\n",
       "                        <td id=\"T_c8f125f0_c540_11ea_8277_54ee75ca1404row1_col7\" class=\"data row1 col7\" >97.31%</td>\n",
       "                        <td id=\"T_c8f125f0_c540_11ea_8277_54ee75ca1404row1_col8\" class=\"data row1 col8\" >90.95%</td>\n",
       "            </tr>\n",
       "            <tr>\n",
       "                        <th id=\"T_c8f125f0_c540_11ea_8277_54ee75ca1404level0_row2\" class=\"row_heading level0 row2\" >Griffin High School</th>\n",
       "                        <td id=\"T_c8f125f0_c540_11ea_8277_54ee75ca1404row2_col0\" class=\"data row2 col0\" >Charter</td>\n",
       "                        <td id=\"T_c8f125f0_c540_11ea_8277_54ee75ca1404row2_col1\" class=\"data row2 col1\" >1468</td>\n",
       "                        <td id=\"T_c8f125f0_c540_11ea_8277_54ee75ca1404row2_col2\" class=\"data row2 col2\" >$917,500.00</td>\n",
       "                        <td id=\"T_c8f125f0_c540_11ea_8277_54ee75ca1404row2_col3\" class=\"data row2 col3\" >$625.00</td>\n",
       "                        <td id=\"T_c8f125f0_c540_11ea_8277_54ee75ca1404row2_col4\" class=\"data row2 col4\" >83.351499</td>\n",
       "                        <td id=\"T_c8f125f0_c540_11ea_8277_54ee75ca1404row2_col5\" class=\"data row2 col5\" >83.816757</td>\n",
       "                        <td id=\"T_c8f125f0_c540_11ea_8277_54ee75ca1404row2_col6\" class=\"data row2 col6\" >93.39%</td>\n",
       "                        <td id=\"T_c8f125f0_c540_11ea_8277_54ee75ca1404row2_col7\" class=\"data row2 col7\" >97.14%</td>\n",
       "                        <td id=\"T_c8f125f0_c540_11ea_8277_54ee75ca1404row2_col8\" class=\"data row2 col8\" >90.60%</td>\n",
       "            </tr>\n",
       "            <tr>\n",
       "                        <th id=\"T_c8f125f0_c540_11ea_8277_54ee75ca1404level0_row3\" class=\"row_heading level0 row3\" >Wilson High School</th>\n",
       "                        <td id=\"T_c8f125f0_c540_11ea_8277_54ee75ca1404row3_col0\" class=\"data row3 col0\" >Charter</td>\n",
       "                        <td id=\"T_c8f125f0_c540_11ea_8277_54ee75ca1404row3_col1\" class=\"data row3 col1\" >2283</td>\n",
       "                        <td id=\"T_c8f125f0_c540_11ea_8277_54ee75ca1404row3_col2\" class=\"data row3 col2\" >$1,319,574.00</td>\n",
       "                        <td id=\"T_c8f125f0_c540_11ea_8277_54ee75ca1404row3_col3\" class=\"data row3 col3\" >$578.00</td>\n",
       "                        <td id=\"T_c8f125f0_c540_11ea_8277_54ee75ca1404row3_col4\" class=\"data row3 col4\" >83.274201</td>\n",
       "                        <td id=\"T_c8f125f0_c540_11ea_8277_54ee75ca1404row3_col5\" class=\"data row3 col5\" >83.989488</td>\n",
       "                        <td id=\"T_c8f125f0_c540_11ea_8277_54ee75ca1404row3_col6\" class=\"data row3 col6\" >93.87%</td>\n",
       "                        <td id=\"T_c8f125f0_c540_11ea_8277_54ee75ca1404row3_col7\" class=\"data row3 col7\" >96.54%</td>\n",
       "                        <td id=\"T_c8f125f0_c540_11ea_8277_54ee75ca1404row3_col8\" class=\"data row3 col8\" >90.58%</td>\n",
       "            </tr>\n",
       "            <tr>\n",
       "                        <th id=\"T_c8f125f0_c540_11ea_8277_54ee75ca1404level0_row4\" class=\"row_heading level0 row4\" >Pena High School</th>\n",
       "                        <td id=\"T_c8f125f0_c540_11ea_8277_54ee75ca1404row4_col0\" class=\"data row4 col0\" >Charter</td>\n",
       "                        <td id=\"T_c8f125f0_c540_11ea_8277_54ee75ca1404row4_col1\" class=\"data row4 col1\" >962</td>\n",
       "                        <td id=\"T_c8f125f0_c540_11ea_8277_54ee75ca1404row4_col2\" class=\"data row4 col2\" >$585,858.00</td>\n",
       "                        <td id=\"T_c8f125f0_c540_11ea_8277_54ee75ca1404row4_col3\" class=\"data row4 col3\" >$609.00</td>\n",
       "                        <td id=\"T_c8f125f0_c540_11ea_8277_54ee75ca1404row4_col4\" class=\"data row4 col4\" >83.839917</td>\n",
       "                        <td id=\"T_c8f125f0_c540_11ea_8277_54ee75ca1404row4_col5\" class=\"data row4 col5\" >84.044699</td>\n",
       "                        <td id=\"T_c8f125f0_c540_11ea_8277_54ee75ca1404row4_col6\" class=\"data row4 col6\" >94.59%</td>\n",
       "                        <td id=\"T_c8f125f0_c540_11ea_8277_54ee75ca1404row4_col7\" class=\"data row4 col7\" >95.95%</td>\n",
       "                        <td id=\"T_c8f125f0_c540_11ea_8277_54ee75ca1404row4_col8\" class=\"data row4 col8\" >90.54%</td>\n",
       "            </tr>\n",
       "    </tbody></table>"
      ],
      "text/plain": [
       "<pandas.io.formats.style.Styler at 0x26213d31198>"
      ]
     },
     "execution_count": 28,
     "metadata": {},
     "output_type": "execute_result"
    }
   ],
   "source": [
    "# summerize the top 5 schools\n",
    "descSorted_df = passGroupDF.sort_values(\"% Overall Passing\", ascending = False)\n",
    "topFive = descSorted_df.head()\n",
    "topFive2 = topFive.style.format({\"Total Students\":\"{:,}\",\n",
    "                            \"Total School Budget\": \"${:,.2f}\", \n",
    "                          \"Per Student Budget\": \"${:,.2f}\",\n",
    "                            \"% Passing Math\":\"{:.2%}\", \n",
    "                          \"% Passing Reading\":\"{:.2%}\",\n",
    "                          \"% Overall Passing\":\"{:.2%}\"})\n",
    "topFive2"
   ]
  },
  {
   "cell_type": "markdown",
   "metadata": {},
   "source": [
    "# Bottom Performing Schools"
   ]
  },
  {
   "cell_type": "code",
   "execution_count": 29,
   "metadata": {},
   "outputs": [
    {
     "data": {
      "text/html": [
       "<style  type=\"text/css\" >\n",
       "</style><table id=\"T_c8f4f3da_c540_11ea_a225_54ee75ca1404\" ><thead>    <tr>        <th class=\"blank level0\" ></th>        <th class=\"col_heading level0 col0\" >School Type</th>        <th class=\"col_heading level0 col1\" > Total Students</th>        <th class=\"col_heading level0 col2\" >Total School Budget</th>        <th class=\"col_heading level0 col3\" >Per Student Budget</th>        <th class=\"col_heading level0 col4\" >Average Math Score</th>        <th class=\"col_heading level0 col5\" >Average Reading Score</th>        <th class=\"col_heading level0 col6\" >% Passing Math</th>        <th class=\"col_heading level0 col7\" >% Passing Reading</th>        <th class=\"col_heading level0 col8\" >% Overall Passing</th>    </tr>    <tr>        <th class=\"index_name level0\" >School Name</th>        <th class=\"blank\" ></th>        <th class=\"blank\" ></th>        <th class=\"blank\" ></th>        <th class=\"blank\" ></th>        <th class=\"blank\" ></th>        <th class=\"blank\" ></th>        <th class=\"blank\" ></th>        <th class=\"blank\" ></th>        <th class=\"blank\" ></th>    </tr></thead><tbody>\n",
       "                <tr>\n",
       "                        <th id=\"T_c8f4f3da_c540_11ea_a225_54ee75ca1404level0_row0\" class=\"row_heading level0 row0\" >Rodriguez High School</th>\n",
       "                        <td id=\"T_c8f4f3da_c540_11ea_a225_54ee75ca1404row0_col0\" class=\"data row0 col0\" >District</td>\n",
       "                        <td id=\"T_c8f4f3da_c540_11ea_a225_54ee75ca1404row0_col1\" class=\"data row0 col1\" >3999</td>\n",
       "                        <td id=\"T_c8f4f3da_c540_11ea_a225_54ee75ca1404row0_col2\" class=\"data row0 col2\" >$2,547,363.00</td>\n",
       "                        <td id=\"T_c8f4f3da_c540_11ea_a225_54ee75ca1404row0_col3\" class=\"data row0 col3\" >$637.00</td>\n",
       "                        <td id=\"T_c8f4f3da_c540_11ea_a225_54ee75ca1404row0_col4\" class=\"data row0 col4\" >76.842711</td>\n",
       "                        <td id=\"T_c8f4f3da_c540_11ea_a225_54ee75ca1404row0_col5\" class=\"data row0 col5\" >80.744686</td>\n",
       "                        <td id=\"T_c8f4f3da_c540_11ea_a225_54ee75ca1404row0_col6\" class=\"data row0 col6\" >66.37%</td>\n",
       "                        <td id=\"T_c8f4f3da_c540_11ea_a225_54ee75ca1404row0_col7\" class=\"data row0 col7\" >80.22%</td>\n",
       "                        <td id=\"T_c8f4f3da_c540_11ea_a225_54ee75ca1404row0_col8\" class=\"data row0 col8\" >52.99%</td>\n",
       "            </tr>\n",
       "            <tr>\n",
       "                        <th id=\"T_c8f4f3da_c540_11ea_a225_54ee75ca1404level0_row1\" class=\"row_heading level0 row1\" >Figueroa High School</th>\n",
       "                        <td id=\"T_c8f4f3da_c540_11ea_a225_54ee75ca1404row1_col0\" class=\"data row1 col0\" >District</td>\n",
       "                        <td id=\"T_c8f4f3da_c540_11ea_a225_54ee75ca1404row1_col1\" class=\"data row1 col1\" >2949</td>\n",
       "                        <td id=\"T_c8f4f3da_c540_11ea_a225_54ee75ca1404row1_col2\" class=\"data row1 col2\" >$1,884,411.00</td>\n",
       "                        <td id=\"T_c8f4f3da_c540_11ea_a225_54ee75ca1404row1_col3\" class=\"data row1 col3\" >$639.00</td>\n",
       "                        <td id=\"T_c8f4f3da_c540_11ea_a225_54ee75ca1404row1_col4\" class=\"data row1 col4\" >76.711767</td>\n",
       "                        <td id=\"T_c8f4f3da_c540_11ea_a225_54ee75ca1404row1_col5\" class=\"data row1 col5\" >81.158020</td>\n",
       "                        <td id=\"T_c8f4f3da_c540_11ea_a225_54ee75ca1404row1_col6\" class=\"data row1 col6\" >65.99%</td>\n",
       "                        <td id=\"T_c8f4f3da_c540_11ea_a225_54ee75ca1404row1_col7\" class=\"data row1 col7\" >80.74%</td>\n",
       "                        <td id=\"T_c8f4f3da_c540_11ea_a225_54ee75ca1404row1_col8\" class=\"data row1 col8\" >53.20%</td>\n",
       "            </tr>\n",
       "            <tr>\n",
       "                        <th id=\"T_c8f4f3da_c540_11ea_a225_54ee75ca1404level0_row2\" class=\"row_heading level0 row2\" >Huang High School</th>\n",
       "                        <td id=\"T_c8f4f3da_c540_11ea_a225_54ee75ca1404row2_col0\" class=\"data row2 col0\" >District</td>\n",
       "                        <td id=\"T_c8f4f3da_c540_11ea_a225_54ee75ca1404row2_col1\" class=\"data row2 col1\" >2917</td>\n",
       "                        <td id=\"T_c8f4f3da_c540_11ea_a225_54ee75ca1404row2_col2\" class=\"data row2 col2\" >$1,910,635.00</td>\n",
       "                        <td id=\"T_c8f4f3da_c540_11ea_a225_54ee75ca1404row2_col3\" class=\"data row2 col3\" >$655.00</td>\n",
       "                        <td id=\"T_c8f4f3da_c540_11ea_a225_54ee75ca1404row2_col4\" class=\"data row2 col4\" >76.629414</td>\n",
       "                        <td id=\"T_c8f4f3da_c540_11ea_a225_54ee75ca1404row2_col5\" class=\"data row2 col5\" >81.182722</td>\n",
       "                        <td id=\"T_c8f4f3da_c540_11ea_a225_54ee75ca1404row2_col6\" class=\"data row2 col6\" >65.68%</td>\n",
       "                        <td id=\"T_c8f4f3da_c540_11ea_a225_54ee75ca1404row2_col7\" class=\"data row2 col7\" >81.32%</td>\n",
       "                        <td id=\"T_c8f4f3da_c540_11ea_a225_54ee75ca1404row2_col8\" class=\"data row2 col8\" >53.51%</td>\n",
       "            </tr>\n",
       "            <tr>\n",
       "                        <th id=\"T_c8f4f3da_c540_11ea_a225_54ee75ca1404level0_row3\" class=\"row_heading level0 row3\" >Hernandez High School</th>\n",
       "                        <td id=\"T_c8f4f3da_c540_11ea_a225_54ee75ca1404row3_col0\" class=\"data row3 col0\" >District</td>\n",
       "                        <td id=\"T_c8f4f3da_c540_11ea_a225_54ee75ca1404row3_col1\" class=\"data row3 col1\" >4635</td>\n",
       "                        <td id=\"T_c8f4f3da_c540_11ea_a225_54ee75ca1404row3_col2\" class=\"data row3 col2\" >$3,022,020.00</td>\n",
       "                        <td id=\"T_c8f4f3da_c540_11ea_a225_54ee75ca1404row3_col3\" class=\"data row3 col3\" >$652.00</td>\n",
       "                        <td id=\"T_c8f4f3da_c540_11ea_a225_54ee75ca1404row3_col4\" class=\"data row3 col4\" >77.289752</td>\n",
       "                        <td id=\"T_c8f4f3da_c540_11ea_a225_54ee75ca1404row3_col5\" class=\"data row3 col5\" >80.934412</td>\n",
       "                        <td id=\"T_c8f4f3da_c540_11ea_a225_54ee75ca1404row3_col6\" class=\"data row3 col6\" >66.75%</td>\n",
       "                        <td id=\"T_c8f4f3da_c540_11ea_a225_54ee75ca1404row3_col7\" class=\"data row3 col7\" >80.86%</td>\n",
       "                        <td id=\"T_c8f4f3da_c540_11ea_a225_54ee75ca1404row3_col8\" class=\"data row3 col8\" >53.53%</td>\n",
       "            </tr>\n",
       "            <tr>\n",
       "                        <th id=\"T_c8f4f3da_c540_11ea_a225_54ee75ca1404level0_row4\" class=\"row_heading level0 row4\" >Johnson High School</th>\n",
       "                        <td id=\"T_c8f4f3da_c540_11ea_a225_54ee75ca1404row4_col0\" class=\"data row4 col0\" >District</td>\n",
       "                        <td id=\"T_c8f4f3da_c540_11ea_a225_54ee75ca1404row4_col1\" class=\"data row4 col1\" >4761</td>\n",
       "                        <td id=\"T_c8f4f3da_c540_11ea_a225_54ee75ca1404row4_col2\" class=\"data row4 col2\" >$3,094,650.00</td>\n",
       "                        <td id=\"T_c8f4f3da_c540_11ea_a225_54ee75ca1404row4_col3\" class=\"data row4 col3\" >$650.00</td>\n",
       "                        <td id=\"T_c8f4f3da_c540_11ea_a225_54ee75ca1404row4_col4\" class=\"data row4 col4\" >77.072464</td>\n",
       "                        <td id=\"T_c8f4f3da_c540_11ea_a225_54ee75ca1404row4_col5\" class=\"data row4 col5\" >80.966394</td>\n",
       "                        <td id=\"T_c8f4f3da_c540_11ea_a225_54ee75ca1404row4_col6\" class=\"data row4 col6\" >66.06%</td>\n",
       "                        <td id=\"T_c8f4f3da_c540_11ea_a225_54ee75ca1404row4_col7\" class=\"data row4 col7\" >81.22%</td>\n",
       "                        <td id=\"T_c8f4f3da_c540_11ea_a225_54ee75ca1404row4_col8\" class=\"data row4 col8\" >53.54%</td>\n",
       "            </tr>\n",
       "    </tbody></table>"
      ],
      "text/plain": [
       "<pandas.io.formats.style.Styler at 0x26213d31cc0>"
      ]
     },
     "execution_count": 29,
     "metadata": {},
     "output_type": "execute_result"
    }
   ],
   "source": [
    "# summerize the bottom five schools\n",
    "ascSorted_df = passGroupDF.sort_values(\"% Overall Passing\", ascending = True)\n",
    "botFive = ascSorted_df.head(5)\n",
    "botFive2 = botFive.style.format({\"Total Students\":\"{:,}\",\n",
    "                            \"Total School Budget\": \"${:,.2f}\", \n",
    "                          \"Per Student Budget\": \"${:,.2f}\",\n",
    "                            \"% Passing Math\":\"{:.2%}\", \n",
    "                          \"% Passing Reading\":\"{:.2%}\",\n",
    "                          \"% Overall Passing\":\"{:.2%}\"})\n",
    "botFive2"
   ]
  },
  {
   "cell_type": "code",
   "execution_count": 30,
   "metadata": {},
   "outputs": [],
   "source": [
    "#create series for each grade level\n",
    "\n",
    "avgNineSeries = df[(df[\"grade\"] == \"9th\")]\n",
    "avgTenSeries = df[(df[\"grade\"] == \"10th\")] \n",
    "avgElevenSeries = df[(df[\"grade\"] == \"11th\")] \n",
    "avgTwelveSeries = df[(df[\"grade\"] == \"12th\")] "
   ]
  },
  {
   "cell_type": "code",
   "execution_count": 31,
   "metadata": {},
   "outputs": [],
   "source": [
    "#create series for students in grade 9 \n",
    "groupNine = avgNineSeries.groupby(\"school_name\")\n",
    "mathMean_Nine = groupNine[\"math_score\"].mean()"
   ]
  },
  {
   "cell_type": "code",
   "execution_count": 32,
   "metadata": {},
   "outputs": [],
   "source": [
    "#create series for students in grade 10\n",
    "groupTen = avgTenSeries.groupby(\"school_name\")\n",
    "mathMean_Ten = groupTen[\"math_score\"].mean()"
   ]
  },
  {
   "cell_type": "code",
   "execution_count": 33,
   "metadata": {},
   "outputs": [],
   "source": [
    "#create series for students in grade 11 \n",
    "groupEleven = avgElevenSeries.groupby(\"school_name\")\n",
    "mathMean_Eleven = groupEleven[\"math_score\"].mean()"
   ]
  },
  {
   "cell_type": "code",
   "execution_count": 34,
   "metadata": {},
   "outputs": [],
   "source": [
    "#create series for students in grade 12 \n",
    "groupTwelve = avgTwelveSeries.groupby(\"school_name\")\n",
    "mathMean_Twelve = groupTwelve[\"math_score\"].mean()"
   ]
  },
  {
   "cell_type": "markdown",
   "metadata": {},
   "source": [
    "# Math Score by Grade"
   ]
  },
  {
   "cell_type": "code",
   "execution_count": 35,
   "metadata": {},
   "outputs": [
    {
     "data": {
      "text/html": [
       "<div>\n",
       "<style scoped>\n",
       "    .dataframe tbody tr th:only-of-type {\n",
       "        vertical-align: middle;\n",
       "    }\n",
       "\n",
       "    .dataframe tbody tr th {\n",
       "        vertical-align: top;\n",
       "    }\n",
       "\n",
       "    .dataframe thead th {\n",
       "        text-align: right;\n",
       "    }\n",
       "</style>\n",
       "<table border=\"1\" class=\"dataframe\">\n",
       "  <thead>\n",
       "    <tr style=\"text-align: right;\">\n",
       "      <th></th>\n",
       "      <th>9th</th>\n",
       "      <th>10th</th>\n",
       "      <th>11th</th>\n",
       "      <th>12th</th>\n",
       "    </tr>\n",
       "    <tr>\n",
       "      <th>School Name</th>\n",
       "      <th></th>\n",
       "      <th></th>\n",
       "      <th></th>\n",
       "      <th></th>\n",
       "    </tr>\n",
       "  </thead>\n",
       "  <tbody>\n",
       "    <tr>\n",
       "      <th>Bailey High School</th>\n",
       "      <td>77.08</td>\n",
       "      <td>77.00</td>\n",
       "      <td>77.52</td>\n",
       "      <td>76.49</td>\n",
       "    </tr>\n",
       "    <tr>\n",
       "      <th>Cabrera High School</th>\n",
       "      <td>83.09</td>\n",
       "      <td>83.15</td>\n",
       "      <td>82.77</td>\n",
       "      <td>83.28</td>\n",
       "    </tr>\n",
       "    <tr>\n",
       "      <th>Figueroa High School</th>\n",
       "      <td>76.40</td>\n",
       "      <td>76.54</td>\n",
       "      <td>76.88</td>\n",
       "      <td>77.15</td>\n",
       "    </tr>\n",
       "    <tr>\n",
       "      <th>Ford High School</th>\n",
       "      <td>77.36</td>\n",
       "      <td>77.67</td>\n",
       "      <td>76.92</td>\n",
       "      <td>76.18</td>\n",
       "    </tr>\n",
       "    <tr>\n",
       "      <th>Griffin High School</th>\n",
       "      <td>82.04</td>\n",
       "      <td>84.23</td>\n",
       "      <td>83.84</td>\n",
       "      <td>83.36</td>\n",
       "    </tr>\n",
       "    <tr>\n",
       "      <th>Hernandez High School</th>\n",
       "      <td>77.44</td>\n",
       "      <td>77.34</td>\n",
       "      <td>77.14</td>\n",
       "      <td>77.19</td>\n",
       "    </tr>\n",
       "    <tr>\n",
       "      <th>Holden High School</th>\n",
       "      <td>83.79</td>\n",
       "      <td>83.43</td>\n",
       "      <td>85.00</td>\n",
       "      <td>82.86</td>\n",
       "    </tr>\n",
       "    <tr>\n",
       "      <th>Huang High School</th>\n",
       "      <td>77.03</td>\n",
       "      <td>75.91</td>\n",
       "      <td>76.45</td>\n",
       "      <td>77.23</td>\n",
       "    </tr>\n",
       "    <tr>\n",
       "      <th>Johnson High School</th>\n",
       "      <td>77.19</td>\n",
       "      <td>76.69</td>\n",
       "      <td>77.49</td>\n",
       "      <td>76.86</td>\n",
       "    </tr>\n",
       "    <tr>\n",
       "      <th>Pena High School</th>\n",
       "      <td>83.63</td>\n",
       "      <td>83.37</td>\n",
       "      <td>84.33</td>\n",
       "      <td>84.12</td>\n",
       "    </tr>\n",
       "    <tr>\n",
       "      <th>Rodriguez High School</th>\n",
       "      <td>76.86</td>\n",
       "      <td>76.61</td>\n",
       "      <td>76.40</td>\n",
       "      <td>77.69</td>\n",
       "    </tr>\n",
       "    <tr>\n",
       "      <th>Shelton High School</th>\n",
       "      <td>83.42</td>\n",
       "      <td>82.92</td>\n",
       "      <td>83.38</td>\n",
       "      <td>83.78</td>\n",
       "    </tr>\n",
       "    <tr>\n",
       "      <th>Thomas High School</th>\n",
       "      <td>83.59</td>\n",
       "      <td>83.09</td>\n",
       "      <td>83.50</td>\n",
       "      <td>83.50</td>\n",
       "    </tr>\n",
       "    <tr>\n",
       "      <th>Wilson High School</th>\n",
       "      <td>83.09</td>\n",
       "      <td>83.72</td>\n",
       "      <td>83.20</td>\n",
       "      <td>83.04</td>\n",
       "    </tr>\n",
       "    <tr>\n",
       "      <th>Wright High School</th>\n",
       "      <td>83.26</td>\n",
       "      <td>84.01</td>\n",
       "      <td>83.84</td>\n",
       "      <td>83.64</td>\n",
       "    </tr>\n",
       "  </tbody>\n",
       "</table>\n",
       "</div>"
      ],
      "text/plain": [
       "                         9th   10th   11th   12th\n",
       "School Name                                      \n",
       "Bailey High School     77.08  77.00  77.52  76.49\n",
       "Cabrera High School    83.09  83.15  82.77  83.28\n",
       "Figueroa High School   76.40  76.54  76.88  77.15\n",
       "Ford High School       77.36  77.67  76.92  76.18\n",
       "Griffin High School    82.04  84.23  83.84  83.36\n",
       "Hernandez High School  77.44  77.34  77.14  77.19\n",
       "Holden High School     83.79  83.43  85.00  82.86\n",
       "Huang High School      77.03  75.91  76.45  77.23\n",
       "Johnson High School    77.19  76.69  77.49  76.86\n",
       "Pena High School       83.63  83.37  84.33  84.12\n",
       "Rodriguez High School  76.86  76.61  76.40  77.69\n",
       "Shelton High School    83.42  82.92  83.38  83.78\n",
       "Thomas High School     83.59  83.09  83.50  83.50\n",
       "Wilson High School     83.09  83.72  83.20  83.04\n",
       "Wright High School     83.26  84.01  83.84  83.64"
      ]
     },
     "execution_count": 35,
     "metadata": {},
     "output_type": "execute_result"
    }
   ],
   "source": [
    "#Getting average reading score by grade\n",
    "meanGradeMath = pd.DataFrame({\"9th\":mathMean_Nine, \n",
    "                      \"10th\": mathMean_Ten,\n",
    "                       \"11th\": mathMean_Eleven,\n",
    "                      \"12th\":mathMean_Twelve})\n",
    "meanGradeMath.index.name = \"School Name\"\n",
    "meanGradeMath.round(2)"
   ]
  },
  {
   "cell_type": "code",
   "execution_count": 36,
   "metadata": {},
   "outputs": [
    {
     "data": {
      "text/plain": [
       "school_name\n",
       "Bailey High School       81.303155\n",
       "Cabrera High School      83.676136\n",
       "Figueroa High School     81.198598\n",
       "Ford High School         80.632653\n",
       "Griffin High School      83.369193\n",
       "Hernandez High School    80.866860\n",
       "Holden High School       83.677165\n",
       "Huang High School        81.290284\n",
       "Johnson High School      81.260714\n",
       "Pena High School         83.807273\n",
       "Rodriguez High School    80.993127\n",
       "Shelton High School      84.122642\n",
       "Thomas High School       83.728850\n",
       "Wilson High School       83.939778\n",
       "Wright High School       83.833333\n",
       "Name: reading_score, dtype: float64"
      ]
     },
     "execution_count": 36,
     "metadata": {},
     "output_type": "execute_result"
    }
   ],
   "source": [
    "groupNine = avgNineSeries.groupby(\"school_name\")\n",
    "readingMean_Nine = groupNine[\"reading_score\"].mean()\n",
    "readingMean_Nine"
   ]
  },
  {
   "cell_type": "code",
   "execution_count": 37,
   "metadata": {},
   "outputs": [
    {
     "data": {
      "text/plain": [
       "school_name\n",
       "Bailey High School       80.907183\n",
       "Cabrera High School      84.253219\n",
       "Figueroa High School     81.408912\n",
       "Ford High School         81.262712\n",
       "Griffin High School      83.706897\n",
       "Hernandez High School    80.660147\n",
       "Holden High School       83.324561\n",
       "Huang High School        81.512386\n",
       "Johnson High School      80.773431\n",
       "Pena High School         83.612000\n",
       "Rodriguez High School    80.629808\n",
       "Shelton High School      83.441964\n",
       "Thomas High School       84.254157\n",
       "Wilson High School       84.021452\n",
       "Wright High School       83.812757\n",
       "Name: reading_score, dtype: float64"
      ]
     },
     "execution_count": 37,
     "metadata": {},
     "output_type": "execute_result"
    }
   ],
   "source": [
    "groupTen = avgTenSeries.groupby(\"school_name\")\n",
    "readingMean_Ten = groupTen[\"reading_score\"].mean()\n",
    "readingMean_Ten"
   ]
  },
  {
   "cell_type": "code",
   "execution_count": 38,
   "metadata": {},
   "outputs": [
    {
     "data": {
      "text/plain": [
       "school_name\n",
       "Bailey High School       80.945643\n",
       "Cabrera High School      83.788382\n",
       "Figueroa High School     80.640339\n",
       "Ford High School         80.403642\n",
       "Griffin High School      84.288089\n",
       "Hernandez High School    81.396140\n",
       "Holden High School       83.815534\n",
       "Huang High School        81.417476\n",
       "Johnson High School      80.616027\n",
       "Pena High School         84.335938\n",
       "Rodriguez High School    80.864811\n",
       "Shelton High School      84.373786\n",
       "Thomas High School       83.585542\n",
       "Wilson High School       83.764608\n",
       "Wright High School       84.156322\n",
       "Name: reading_score, dtype: float64"
      ]
     },
     "execution_count": 38,
     "metadata": {},
     "output_type": "execute_result"
    }
   ],
   "source": [
    "groupEleven = avgElevenSeries.groupby(\"school_name\")\n",
    "readingMean_Eleven = groupEleven[\"reading_score\"].mean()\n",
    "readingMean_Eleven"
   ]
  },
  {
   "cell_type": "code",
   "execution_count": 39,
   "metadata": {},
   "outputs": [
    {
     "data": {
      "text/plain": [
       "school_name\n",
       "Bailey High School       80.912451\n",
       "Cabrera High School      84.287958\n",
       "Figueroa High School     81.384863\n",
       "Ford High School         80.662338\n",
       "Griffin High School      84.013699\n",
       "Hernandez High School    80.857143\n",
       "Holden High School       84.698795\n",
       "Huang High School        80.305983\n",
       "Johnson High School      81.227564\n",
       "Pena High School         84.591160\n",
       "Rodriguez High School    80.376426\n",
       "Shelton High School      82.781671\n",
       "Thomas High School       83.831361\n",
       "Wilson High School       84.317673\n",
       "Wright High School       84.073171\n",
       "Name: reading_score, dtype: float64"
      ]
     },
     "execution_count": 39,
     "metadata": {},
     "output_type": "execute_result"
    }
   ],
   "source": [
    "groupTwelve = avgTwelveSeries.groupby(\"school_name\")\n",
    "readingMean_Twelve = groupTwelve[\"reading_score\"].mean()\n",
    "readingMean_Twelve"
   ]
  },
  {
   "cell_type": "markdown",
   "metadata": {},
   "source": [
    "# Reading Score by Grade"
   ]
  },
  {
   "cell_type": "code",
   "execution_count": 40,
   "metadata": {},
   "outputs": [
    {
     "data": {
      "text/html": [
       "<div>\n",
       "<style scoped>\n",
       "    .dataframe tbody tr th:only-of-type {\n",
       "        vertical-align: middle;\n",
       "    }\n",
       "\n",
       "    .dataframe tbody tr th {\n",
       "        vertical-align: top;\n",
       "    }\n",
       "\n",
       "    .dataframe thead th {\n",
       "        text-align: right;\n",
       "    }\n",
       "</style>\n",
       "<table border=\"1\" class=\"dataframe\">\n",
       "  <thead>\n",
       "    <tr style=\"text-align: right;\">\n",
       "      <th></th>\n",
       "      <th>9th</th>\n",
       "      <th>10th</th>\n",
       "      <th>11th</th>\n",
       "      <th>12th</th>\n",
       "    </tr>\n",
       "    <tr>\n",
       "      <th>School Name</th>\n",
       "      <th></th>\n",
       "      <th></th>\n",
       "      <th></th>\n",
       "      <th></th>\n",
       "    </tr>\n",
       "  </thead>\n",
       "  <tbody>\n",
       "    <tr>\n",
       "      <th>Bailey High School</th>\n",
       "      <td>81.30</td>\n",
       "      <td>80.91</td>\n",
       "      <td>80.95</td>\n",
       "      <td>80.91</td>\n",
       "    </tr>\n",
       "    <tr>\n",
       "      <th>Cabrera High School</th>\n",
       "      <td>83.68</td>\n",
       "      <td>84.25</td>\n",
       "      <td>83.79</td>\n",
       "      <td>84.29</td>\n",
       "    </tr>\n",
       "    <tr>\n",
       "      <th>Figueroa High School</th>\n",
       "      <td>81.20</td>\n",
       "      <td>81.41</td>\n",
       "      <td>80.64</td>\n",
       "      <td>81.38</td>\n",
       "    </tr>\n",
       "    <tr>\n",
       "      <th>Ford High School</th>\n",
       "      <td>80.63</td>\n",
       "      <td>81.26</td>\n",
       "      <td>80.40</td>\n",
       "      <td>80.66</td>\n",
       "    </tr>\n",
       "    <tr>\n",
       "      <th>Griffin High School</th>\n",
       "      <td>83.37</td>\n",
       "      <td>83.71</td>\n",
       "      <td>84.29</td>\n",
       "      <td>84.01</td>\n",
       "    </tr>\n",
       "    <tr>\n",
       "      <th>Hernandez High School</th>\n",
       "      <td>80.87</td>\n",
       "      <td>80.66</td>\n",
       "      <td>81.40</td>\n",
       "      <td>80.86</td>\n",
       "    </tr>\n",
       "    <tr>\n",
       "      <th>Holden High School</th>\n",
       "      <td>83.68</td>\n",
       "      <td>83.32</td>\n",
       "      <td>83.82</td>\n",
       "      <td>84.70</td>\n",
       "    </tr>\n",
       "    <tr>\n",
       "      <th>Huang High School</th>\n",
       "      <td>81.29</td>\n",
       "      <td>81.51</td>\n",
       "      <td>81.42</td>\n",
       "      <td>80.31</td>\n",
       "    </tr>\n",
       "    <tr>\n",
       "      <th>Johnson High School</th>\n",
       "      <td>81.26</td>\n",
       "      <td>80.77</td>\n",
       "      <td>80.62</td>\n",
       "      <td>81.23</td>\n",
       "    </tr>\n",
       "    <tr>\n",
       "      <th>Pena High School</th>\n",
       "      <td>83.81</td>\n",
       "      <td>83.61</td>\n",
       "      <td>84.34</td>\n",
       "      <td>84.59</td>\n",
       "    </tr>\n",
       "    <tr>\n",
       "      <th>Rodriguez High School</th>\n",
       "      <td>80.99</td>\n",
       "      <td>80.63</td>\n",
       "      <td>80.86</td>\n",
       "      <td>80.38</td>\n",
       "    </tr>\n",
       "    <tr>\n",
       "      <th>Shelton High School</th>\n",
       "      <td>84.12</td>\n",
       "      <td>83.44</td>\n",
       "      <td>84.37</td>\n",
       "      <td>82.78</td>\n",
       "    </tr>\n",
       "    <tr>\n",
       "      <th>Thomas High School</th>\n",
       "      <td>83.73</td>\n",
       "      <td>84.25</td>\n",
       "      <td>83.59</td>\n",
       "      <td>83.83</td>\n",
       "    </tr>\n",
       "    <tr>\n",
       "      <th>Wilson High School</th>\n",
       "      <td>83.94</td>\n",
       "      <td>84.02</td>\n",
       "      <td>83.76</td>\n",
       "      <td>84.32</td>\n",
       "    </tr>\n",
       "    <tr>\n",
       "      <th>Wright High School</th>\n",
       "      <td>83.83</td>\n",
       "      <td>83.81</td>\n",
       "      <td>84.16</td>\n",
       "      <td>84.07</td>\n",
       "    </tr>\n",
       "  </tbody>\n",
       "</table>\n",
       "</div>"
      ],
      "text/plain": [
       "                         9th   10th   11th   12th\n",
       "School Name                                      \n",
       "Bailey High School     81.30  80.91  80.95  80.91\n",
       "Cabrera High School    83.68  84.25  83.79  84.29\n",
       "Figueroa High School   81.20  81.41  80.64  81.38\n",
       "Ford High School       80.63  81.26  80.40  80.66\n",
       "Griffin High School    83.37  83.71  84.29  84.01\n",
       "Hernandez High School  80.87  80.66  81.40  80.86\n",
       "Holden High School     83.68  83.32  83.82  84.70\n",
       "Huang High School      81.29  81.51  81.42  80.31\n",
       "Johnson High School    81.26  80.77  80.62  81.23\n",
       "Pena High School       83.81  83.61  84.34  84.59\n",
       "Rodriguez High School  80.99  80.63  80.86  80.38\n",
       "Shelton High School    84.12  83.44  84.37  82.78\n",
       "Thomas High School     83.73  84.25  83.59  83.83\n",
       "Wilson High School     83.94  84.02  83.76  84.32\n",
       "Wright High School     83.83  83.81  84.16  84.07"
      ]
     },
     "execution_count": 40,
     "metadata": {},
     "output_type": "execute_result"
    }
   ],
   "source": [
    "#Getting average reading score by grade\n",
    "meanGradeReading = pd.DataFrame({\"9th\":readingMean_Nine, \n",
    "                      \"10th\": readingMean_Ten,\n",
    "                       \"11th\": readingMean_Eleven,\n",
    "                      \"12th\":readingMean_Twelve})\n",
    "meanGradeReading.index.name = \"School Name\"\n",
    "meanGradeReading.round(2)"
   ]
  },
  {
   "cell_type": "code",
   "execution_count": 41,
   "metadata": {},
   "outputs": [],
   "source": [
    "schoolspending_df = pd.DataFrame({\n",
    "                      \"Per Student Budget\":budgetPerStu,\n",
    "                      \"Average Math Score\":meanMath,\n",
    "                      \"Average Reading Score\":meanRead,\n",
    "                      \"% Passing Math\":passGroup_R,\n",
    "                      \"% Passing Reading\":passGroup_M,\n",
    "                      \"% Overall Passing\":passGroup_B\n",
    "                           })\n",
    "schoolspending2 = schoolspending_df.index.name = \"School Name\""
   ]
  },
  {
   "cell_type": "code",
   "execution_count": 42,
   "metadata": {},
   "outputs": [
    {
     "data": {
      "text/plain": [
       "School Name\n",
       "Bailey High School       $585-629\n",
       "Cabrera High School         <$584\n",
       "Figueroa High School     $630-644\n",
       "Ford High School         $630-644\n",
       "Griffin High School      $585-629\n",
       "Hernandez High School    $645-675\n",
       "Holden High School          <$584\n",
       "Huang High School        $645-675\n",
       "Johnson High School      $645-675\n",
       "Pena High School         $585-629\n",
       "Rodriguez High School    $630-644\n",
       "Shelton High School      $585-629\n",
       "Thomas High School       $630-644\n",
       "Wilson High School          <$584\n",
       "Wright High School          <$584\n",
       "Name: Per Student Budget, dtype: category\n",
       "Categories (4, object): [<$584 < $585-629 < $630-644 < $645-675]"
      ]
     },
     "execution_count": 42,
     "metadata": {},
     "output_type": "execute_result"
    }
   ],
   "source": [
    "budgetBin = [0, 584, 629, 644, 675]\n",
    "budgetLabel = [\"<$584\", \"$585-629\", \"$630-644\", \"$645-675\"]\n",
    "pd.cut(schoolspending_df[\"Per Student Budget\"], budgetBin, labels = budgetLabel)\n"
   ]
  },
  {
   "cell_type": "code",
   "execution_count": 43,
   "metadata": {},
   "outputs": [],
   "source": [
    "schoolspending_df[\"Spending Ranges (Per Student)\"] = pd.cut(schoolspending_df[\"Per Student Budget\"], budgetBin, labels = budgetLabel)\n"
   ]
  },
  {
   "cell_type": "markdown",
   "metadata": {},
   "source": [
    "# Scores by School Spending"
   ]
  },
  {
   "cell_type": "code",
   "execution_count": 44,
   "metadata": {},
   "outputs": [
    {
     "data": {
      "text/html": [
       "<style  type=\"text/css\" >\n",
       "</style><table id=\"T_c93358ca_c540_11ea_8cc5_54ee75ca1404\" ><thead>    <tr>        <th class=\"blank level0\" ></th>        <th class=\"col_heading level0 col0\" >Average Math Score</th>        <th class=\"col_heading level0 col1\" >Average Reading Score</th>        <th class=\"col_heading level0 col2\" >% Passing Math</th>        <th class=\"col_heading level0 col3\" >% Passing Reading</th>        <th class=\"col_heading level0 col4\" >% Overall Passing</th>    </tr>    <tr>        <th class=\"index_name level0\" >Spending Ranges (Per Student)</th>        <th class=\"blank\" ></th>        <th class=\"blank\" ></th>        <th class=\"blank\" ></th>        <th class=\"blank\" ></th>        <th class=\"blank\" ></th>    </tr></thead><tbody>\n",
       "                <tr>\n",
       "                        <th id=\"T_c93358ca_c540_11ea_8cc5_54ee75ca1404level0_row0\" class=\"row_heading level0 row0\" ><$584</th>\n",
       "                        <td id=\"T_c93358ca_c540_11ea_8cc5_54ee75ca1404row0_col0\" class=\"data row0 col0\" >83.46</td>\n",
       "                        <td id=\"T_c93358ca_c540_11ea_8cc5_54ee75ca1404row0_col1\" class=\"data row0 col1\" >83.93</td>\n",
       "                        <td id=\"T_c93358ca_c540_11ea_8cc5_54ee75ca1404row0_col2\" class=\"data row0 col2\" >96.61%</td>\n",
       "                        <td id=\"T_c93358ca_c540_11ea_8cc5_54ee75ca1404row0_col3\" class=\"data row0 col3\" >93.46%</td>\n",
       "                        <td id=\"T_c93358ca_c540_11ea_8cc5_54ee75ca1404row0_col4\" class=\"data row0 col4\" >90.37%</td>\n",
       "            </tr>\n",
       "            <tr>\n",
       "                        <th id=\"T_c93358ca_c540_11ea_8cc5_54ee75ca1404level0_row1\" class=\"row_heading level0 row1\" >$585-629</th>\n",
       "                        <td id=\"T_c93358ca_c540_11ea_8cc5_54ee75ca1404row1_col0\" class=\"data row1 col0\" >81.90</td>\n",
       "                        <td id=\"T_c93358ca_c540_11ea_8cc5_54ee75ca1404row1_col1\" class=\"data row1 col1\" >83.16</td>\n",
       "                        <td id=\"T_c93358ca_c540_11ea_8cc5_54ee75ca1404row1_col2\" class=\"data row1 col2\" >92.72%</td>\n",
       "                        <td id=\"T_c93358ca_c540_11ea_8cc5_54ee75ca1404row1_col3\" class=\"data row1 col3\" >87.13%</td>\n",
       "                        <td id=\"T_c93358ca_c540_11ea_8cc5_54ee75ca1404row1_col4\" class=\"data row1 col4\" >81.42%</td>\n",
       "            </tr>\n",
       "            <tr>\n",
       "                        <th id=\"T_c93358ca_c540_11ea_8cc5_54ee75ca1404level0_row2\" class=\"row_heading level0 row2\" >$630-644</th>\n",
       "                        <td id=\"T_c93358ca_c540_11ea_8cc5_54ee75ca1404row2_col0\" class=\"data row2 col0\" >78.52</td>\n",
       "                        <td id=\"T_c93358ca_c540_11ea_8cc5_54ee75ca1404row2_col1\" class=\"data row2 col1\" >81.62</td>\n",
       "                        <td id=\"T_c93358ca_c540_11ea_8cc5_54ee75ca1404row2_col2\" class=\"data row2 col2\" >84.39%</td>\n",
       "                        <td id=\"T_c93358ca_c540_11ea_8cc5_54ee75ca1404row2_col3\" class=\"data row2 col3\" >73.48%</td>\n",
       "                        <td id=\"T_c93358ca_c540_11ea_8cc5_54ee75ca1404row2_col4\" class=\"data row2 col4\" >62.86%</td>\n",
       "            </tr>\n",
       "            <tr>\n",
       "                        <th id=\"T_c93358ca_c540_11ea_8cc5_54ee75ca1404level0_row3\" class=\"row_heading level0 row3\" >$645-675</th>\n",
       "                        <td id=\"T_c93358ca_c540_11ea_8cc5_54ee75ca1404row3_col0\" class=\"data row3 col0\" >77.00</td>\n",
       "                        <td id=\"T_c93358ca_c540_11ea_8cc5_54ee75ca1404row3_col1\" class=\"data row3 col1\" >81.03</td>\n",
       "                        <td id=\"T_c93358ca_c540_11ea_8cc5_54ee75ca1404row3_col2\" class=\"data row3 col2\" >81.13%</td>\n",
       "                        <td id=\"T_c93358ca_c540_11ea_8cc5_54ee75ca1404row3_col3\" class=\"data row3 col3\" >66.16%</td>\n",
       "                        <td id=\"T_c93358ca_c540_11ea_8cc5_54ee75ca1404row3_col4\" class=\"data row3 col4\" >53.53%</td>\n",
       "            </tr>\n",
       "    </tbody></table>"
      ],
      "text/plain": [
       "<pandas.io.formats.style.Styler at 0x26213d40048>"
      ]
     },
     "execution_count": 44,
     "metadata": {},
     "output_type": "execute_result"
    }
   ],
   "source": [
    "#evaluating scores based on school budget per student\n",
    "grouped_schoolspending_df = schoolspending_df.groupby(\"Spending Ranges (Per Student)\")\n",
    "grouped_spending = grouped_schoolspending_df[[\"Average Math Score\", \"Average Reading Score\", \"% Passing Math\", \"% Passing Reading\", \"% Overall Passing\"]].mean()\n",
    "grouped_spending[\"Average Math Score\"] = grouped_spending[\"Average Math Score\"].map(\"{:,.2f}\".format)\n",
    "grouped_spending[\"Average Reading Score\"] = grouped_spending[\"Average Reading Score\"].map(\"{:,.2f}\".format)\n",
    "grouped_spending2 = grouped_spending.style.format({\"% Passing Math\":\"{:.2%}\", \n",
    "                        \"% Passing Reading\":\"{:.2%}\",\n",
    "                        \"% Overall Passing\":\"{:.2%}\"})\n",
    "grouped_spending2"
   ]
  },
  {
   "cell_type": "code",
   "execution_count": 45,
   "metadata": {},
   "outputs": [],
   "source": [
    "schoolsize_df = pd.DataFrame({\n",
    "                      \"Students Per School\":StuPerSchool,\n",
    "                      \"Average Math Score\":meanMath,\n",
    "                      \"Average Reading Score\":meanRead,\n",
    "                      \"% Passing Math\":passGroup_M,\n",
    "                      \"% Passing Reading\":passGroup_R,\n",
    "                      \"% Overall Passing\":passGroup_B\n",
    "                           })\n",
    "schoolsize_df.index.name = \"School Name\""
   ]
  },
  {
   "cell_type": "code",
   "execution_count": 46,
   "metadata": {},
   "outputs": [
    {
     "data": {
      "text/plain": [
       "School Name\n",
       "Bailey High School        Large (2000-5000)\n",
       "Cabrera High School      Medium (1000-2000)\n",
       "Figueroa High School      Large (2000-5000)\n",
       "Ford High School          Large (2000-5000)\n",
       "Griffin High School      Medium (1000-2000)\n",
       "Hernandez High School     Large (2000-5000)\n",
       "Holden High School            Small (<1000)\n",
       "Huang High School         Large (2000-5000)\n",
       "Johnson High School       Large (2000-5000)\n",
       "Pena High School              Small (<1000)\n",
       "Rodriguez High School     Large (2000-5000)\n",
       "Shelton High School      Medium (1000-2000)\n",
       "Thomas High School       Medium (1000-2000)\n",
       "Wilson High School        Large (2000-5000)\n",
       "Wright High School       Medium (1000-2000)\n",
       "Name: Students Per School, dtype: category\n",
       "Categories (3, object): [Small (<1000) < Medium (1000-2000) < Large (2000-5000)]"
      ]
     },
     "execution_count": 46,
     "metadata": {},
     "output_type": "execute_result"
    }
   ],
   "source": [
    "sizeBin = [0, 1000, 2000, 5000]\n",
    "sizeLabel = [\"Small (<1000)\", \"Medium (1000-2000)\", \"Large (2000-5000)\"]\n",
    "pd.cut(schoolsize_df[\"Students Per School\"], sizeBin, labels = sizeLabel)"
   ]
  },
  {
   "cell_type": "code",
   "execution_count": 47,
   "metadata": {},
   "outputs": [],
   "source": [
    "schoolsize_df[\"School Size\"] = pd.cut(schoolsize_df[\"Students Per School\"], sizeBin, labels = sizeLabel)"
   ]
  },
  {
   "cell_type": "markdown",
   "metadata": {},
   "source": [
    "# Scores by School Size "
   ]
  },
  {
   "cell_type": "code",
   "execution_count": 48,
   "metadata": {},
   "outputs": [
    {
     "data": {
      "text/html": [
       "<style  type=\"text/css\" >\n",
       "</style><table id=\"T_c940963a_c540_11ea_b871_54ee75ca1404\" ><thead>    <tr>        <th class=\"blank level0\" ></th>        <th class=\"col_heading level0 col0\" >Average Math Score</th>        <th class=\"col_heading level0 col1\" >Average Reading Score</th>        <th class=\"col_heading level0 col2\" >% Passing Math</th>        <th class=\"col_heading level0 col3\" >% Passing Reading</th>        <th class=\"col_heading level0 col4\" >% Overall Passing</th>    </tr>    <tr>        <th class=\"index_name level0\" >School Size</th>        <th class=\"blank\" ></th>        <th class=\"blank\" ></th>        <th class=\"blank\" ></th>        <th class=\"blank\" ></th>        <th class=\"blank\" ></th>    </tr></thead><tbody>\n",
       "                <tr>\n",
       "                        <th id=\"T_c940963a_c540_11ea_b871_54ee75ca1404level0_row0\" class=\"row_heading level0 row0\" >Small (<1000)</th>\n",
       "                        <td id=\"T_c940963a_c540_11ea_b871_54ee75ca1404row0_col0\" class=\"data row0 col0\" >83.82</td>\n",
       "                        <td id=\"T_c940963a_c540_11ea_b871_54ee75ca1404row0_col1\" class=\"data row0 col1\" >83.93</td>\n",
       "                        <td id=\"T_c940963a_c540_11ea_b871_54ee75ca1404row0_col2\" class=\"data row0 col2\" >93.55%</td>\n",
       "                        <td id=\"T_c940963a_c540_11ea_b871_54ee75ca1404row0_col3\" class=\"data row0 col3\" >96.10%</td>\n",
       "                        <td id=\"T_c940963a_c540_11ea_b871_54ee75ca1404row0_col4\" class=\"data row0 col4\" >89.88%</td>\n",
       "            </tr>\n",
       "            <tr>\n",
       "                        <th id=\"T_c940963a_c540_11ea_b871_54ee75ca1404level0_row1\" class=\"row_heading level0 row1\" >Medium (1000-2000)</th>\n",
       "                        <td id=\"T_c940963a_c540_11ea_b871_54ee75ca1404row1_col0\" class=\"data row1 col0\" >83.37</td>\n",
       "                        <td id=\"T_c940963a_c540_11ea_b871_54ee75ca1404row1_col1\" class=\"data row1 col1\" >83.86</td>\n",
       "                        <td id=\"T_c940963a_c540_11ea_b871_54ee75ca1404row1_col2\" class=\"data row1 col2\" >93.60%</td>\n",
       "                        <td id=\"T_c940963a_c540_11ea_b871_54ee75ca1404row1_col3\" class=\"data row1 col3\" >96.79%</td>\n",
       "                        <td id=\"T_c940963a_c540_11ea_b871_54ee75ca1404row1_col4\" class=\"data row1 col4\" >90.62%</td>\n",
       "            </tr>\n",
       "            <tr>\n",
       "                        <th id=\"T_c940963a_c540_11ea_b871_54ee75ca1404level0_row2\" class=\"row_heading level0 row2\" >Large (2000-5000)</th>\n",
       "                        <td id=\"T_c940963a_c540_11ea_b871_54ee75ca1404row2_col0\" class=\"data row2 col0\" >77.75</td>\n",
       "                        <td id=\"T_c940963a_c540_11ea_b871_54ee75ca1404row2_col1\" class=\"data row2 col1\" >81.34</td>\n",
       "                        <td id=\"T_c940963a_c540_11ea_b871_54ee75ca1404row2_col2\" class=\"data row2 col2\" >69.96%</td>\n",
       "                        <td id=\"T_c940963a_c540_11ea_b871_54ee75ca1404row2_col3\" class=\"data row2 col3\" >82.77%</td>\n",
       "                        <td id=\"T_c940963a_c540_11ea_b871_54ee75ca1404row2_col4\" class=\"data row2 col4\" >58.29%</td>\n",
       "            </tr>\n",
       "    </tbody></table>"
      ],
      "text/plain": [
       "<pandas.io.formats.style.Styler at 0x2621545c550>"
      ]
     },
     "execution_count": 48,
     "metadata": {},
     "output_type": "execute_result"
    }
   ],
   "source": [
    "#evaluating scores based on school size\n",
    "grouped_schoolsize_df = schoolsize_df.groupby(\"School Size\")\n",
    "grouped_size = grouped_schoolsize_df[[\"Average Math Score\", \"Average Reading Score\", \"% Passing Math\", \"% Passing Reading\", \"% Overall Passing\"]].mean()\n",
    "grouped_size[\"Average Math Score\"] = grouped_size[\"Average Math Score\"].map(\"{:,.2f}\".format)\n",
    "grouped_size[\"Average Reading Score\"] = grouped_size[\"Average Reading Score\"].map(\"{:,.2f}\".format)\n",
    "grouped_size2 = grouped_size.style.format({\"% Passing Math\":\"{:.2%}\", \n",
    "                        \"% Passing Reading\":\"{:.2%}\",\n",
    "                        \"% Overall Passing\":\"{:.2%}\"})\n",
    "grouped_size2"
   ]
  },
  {
   "cell_type": "code",
   "execution_count": 49,
   "metadata": {},
   "outputs": [],
   "source": [
    "schooltype_df = pd.DataFrame({\n",
    "                      \"School Type\":schoolType,\n",
    "                      \"Average Math Score\":meanMath,\n",
    "                      \"Average Reading Score\":meanRead,\n",
    "                      \"% Passing Math\":passGroup_R,\n",
    "                      \"% Passing Reading\":passGroup_M,\n",
    "                      \"% Overall Passing\":passGroup_B\n",
    "                           })"
   ]
  },
  {
   "cell_type": "markdown",
   "metadata": {},
   "source": [
    "# Scores by School Type"
   ]
  },
  {
   "cell_type": "code",
   "execution_count": 50,
   "metadata": {},
   "outputs": [
    {
     "data": {
      "text/html": [
       "<style  type=\"text/css\" >\n",
       "</style><table id=\"T_c9476f4c_c540_11ea_8d0e_54ee75ca1404\" ><thead>    <tr>        <th class=\"blank level0\" ></th>        <th class=\"col_heading level0 col0\" >Average Math Score</th>        <th class=\"col_heading level0 col1\" >Average Reading Score</th>        <th class=\"col_heading level0 col2\" >% Passing Math</th>        <th class=\"col_heading level0 col3\" >% Passing Reading</th>        <th class=\"col_heading level0 col4\" >% Overall Passing</th>    </tr>    <tr>        <th class=\"index_name level0\" >School Type</th>        <th class=\"blank\" ></th>        <th class=\"blank\" ></th>        <th class=\"blank\" ></th>        <th class=\"blank\" ></th>        <th class=\"blank\" ></th>    </tr></thead><tbody>\n",
       "                <tr>\n",
       "                        <th id=\"T_c9476f4c_c540_11ea_8d0e_54ee75ca1404level0_row0\" class=\"row_heading level0 row0\" >Charter</th>\n",
       "                        <td id=\"T_c9476f4c_c540_11ea_8d0e_54ee75ca1404row0_col0\" class=\"data row0 col0\" >83.47</td>\n",
       "                        <td id=\"T_c9476f4c_c540_11ea_8d0e_54ee75ca1404row0_col1\" class=\"data row0 col1\" >83.90</td>\n",
       "                        <td id=\"T_c9476f4c_c540_11ea_8d0e_54ee75ca1404row0_col2\" class=\"data row0 col2\" >96.59%</td>\n",
       "                        <td id=\"T_c9476f4c_c540_11ea_8d0e_54ee75ca1404row0_col3\" class=\"data row0 col3\" >93.62%</td>\n",
       "                        <td id=\"T_c9476f4c_c540_11ea_8d0e_54ee75ca1404row0_col4\" class=\"data row0 col4\" >90.43%</td>\n",
       "            </tr>\n",
       "            <tr>\n",
       "                        <th id=\"T_c9476f4c_c540_11ea_8d0e_54ee75ca1404level0_row1\" class=\"row_heading level0 row1\" >District</th>\n",
       "                        <td id=\"T_c9476f4c_c540_11ea_8d0e_54ee75ca1404row1_col0\" class=\"data row1 col0\" >76.96</td>\n",
       "                        <td id=\"T_c9476f4c_c540_11ea_8d0e_54ee75ca1404row1_col1\" class=\"data row1 col1\" >80.97</td>\n",
       "                        <td id=\"T_c9476f4c_c540_11ea_8d0e_54ee75ca1404row1_col2\" class=\"data row1 col2\" >80.80%</td>\n",
       "                        <td id=\"T_c9476f4c_c540_11ea_8d0e_54ee75ca1404row1_col3\" class=\"data row1 col3\" >66.55%</td>\n",
       "                        <td id=\"T_c9476f4c_c540_11ea_8d0e_54ee75ca1404row1_col4\" class=\"data row1 col4\" >53.67%</td>\n",
       "            </tr>\n",
       "    </tbody></table>"
      ],
      "text/plain": [
       "<pandas.io.formats.style.Styler at 0x2621545cc88>"
      ]
     },
     "execution_count": 50,
     "metadata": {},
     "output_type": "execute_result"
    }
   ],
   "source": [
    "#evaluating scores based on school type\n",
    "schooltype_df2 = schooltype_df.groupby(\"School Type\")\n",
    "grouped_schooltype = schooltype_df2.mean()\n",
    "grouped_schooltype[\"Average Math Score\"] = grouped_schooltype[\"Average Math Score\"].map(\"{:,.2f}\".format)\n",
    "grouped_schooltype[\"Average Reading Score\"] = grouped_schooltype[\"Average Reading Score\"].map(\"{:,.2f}\".format)\n",
    "grouped_schooltype.style.format({\"% Passing Math\":\"{:.2%}\", \n",
    "                        \"% Passing Reading\":\"{:.2%}\",\n",
    "                        \"% Overall Passing\":\"{:.2%}\"})"
   ]
  }
 ],
 "metadata": {
  "kernelspec": {
   "display_name": "Python 3",
   "language": "python",
   "name": "python3"
  },
  "language_info": {
   "codemirror_mode": {
    "name": "ipython",
    "version": 3
   },
   "file_extension": ".py",
   "mimetype": "text/x-python",
   "name": "python",
   "nbconvert_exporter": "python",
   "pygments_lexer": "ipython3",
   "version": "3.6.10"
  }
 },
 "nbformat": 4,
 "nbformat_minor": 4
}
