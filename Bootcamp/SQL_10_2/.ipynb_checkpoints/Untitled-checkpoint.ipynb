{
 "cells": [
  {
   "cell_type": "code",
   "execution_count": 1,
   "metadata": {},
   "outputs": [],
   "source": [
    "#dependacies\n",
    "from sqlalchemy import create_engine\n",
    "from sqlalchemy import Column, Integer, String, Float\n",
    "from sqlalchemy.ext.declarative import declarative_base"
   ]
  },
  {
   "cell_type": "code",
   "execution_count": 2,
   "metadata": {},
   "outputs": [],
   "source": [
    "Base = declarative_base()"
   ]
  },
  {
   "cell_type": "code",
   "execution_count": 3,
   "metadata": {},
   "outputs": [],
   "source": [
    "class BaseballPlayer(Base):\n",
    "    __tablename__ = 'player'\n",
    "    player_id = Column(String, primary_key = True)\n",
    "    birth_year = Column(Integer)\n",
    "    birth_month = Column(Integer)\n",
    "    birth_day = Column(Integer)\n",
    "    birth_country =  Column(String)\n",
    "    birth_state = Column(String)\n",
    "    birth_city = Column(String)\n",
    "    name_first = Column(String)\n",
    "    name_last = Column(String)\n",
    "    name_given = Column(String)\n",
    "    weight = Column(Integer)\n",
    "    height = Column(Integer)\n",
    "    base = Column(String)\n",
    "    throws = Column(String)\n",
    "    debut = Column(String)\n",
    "    final_game = Column(String)"
   ]
  },
  {
   "cell_type": "code",
   "execution_count": 4,
   "metadata": {},
   "outputs": [],
   "source": [
    "#Create Database Connection\n",
    "engine = create_engine('sqlite:///../Resources/database.sqlite')"
   ]
  },
  {
   "cell_type": "code",
   "execution_count": null,
   "metadata": {},
   "outputs": [],
   "source": []
  },
  {
   "cell_type": "code",
   "execution_count": null,
   "metadata": {},
   "outputs": [],
   "source": []
  }
 ],
 "metadata": {
  "kernelspec": {
   "display_name": "Python [conda env:pythondata] *",
   "language": "python",
   "name": "conda-env-pythondata-py"
  },
  "language_info": {
   "codemirror_mode": {
    "name": "ipython",
    "version": 3
   },
   "file_extension": ".py",
   "mimetype": "text/x-python",
   "name": "python",
   "nbconvert_exporter": "python",
   "pygments_lexer": "ipython3",
   "version": "3.6.10"
  }
 },
 "nbformat": 4,
 "nbformat_minor": 4
}
